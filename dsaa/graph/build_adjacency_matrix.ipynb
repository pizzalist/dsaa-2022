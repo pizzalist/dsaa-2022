{
 "cells": [
  {
   "cell_type": "code",
   "execution_count": 2,
   "metadata": {},
   "outputs": [],
   "source": [
    "import os\n",
    "import pandas as pd\n",
    "import numpy as np"
   ]
  },
  {
   "cell_type": "code",
   "execution_count": 3,
   "id": "2a9557bf",
   "metadata": {},
   "outputs": [],
   "source": [
    "PATH = \"dataset\"\n",
    "filenames = os.listdir(PATH)"
   ]
  },
  {
   "cell_type": "code",
   "execution_count": 15,
   "id": "6b1e11a7",
   "metadata": {},
   "outputs": [],
   "source": [
    "node_list_filepath = os.path.join(PATH, filenames[0])\n",
    "edge_list_filepath = os.path.join(PATH, filenames[1])"
   ]
  },
  {
   "cell_type": "code",
   "execution_count": 16,
   "id": "2e50203d",
   "metadata": {},
   "outputs": [
    {
     "data": {
      "text/plain": [
       "'dataset/marvel-unimodal-nodes.csv'"
      ]
     },
     "execution_count": 16,
     "metadata": {},
     "output_type": "execute_result"
    }
   ],
   "source": [
    "node_list_filepath"
   ]
  },
  {
   "cell_type": "code",
   "execution_count": 17,
   "id": "8729722e",
   "metadata": {},
   "outputs": [
    {
     "data": {
      "text/plain": [
       "'dataset/marvel-unimodal-edges.csv'"
      ]
     },
     "execution_count": 17,
     "metadata": {},
     "output_type": "execute_result"
    }
   ],
   "source": [
    "edge_list_filepath"
   ]
  },
  {
   "cell_type": "code",
   "execution_count": 18,
   "id": "bd2b9b89",
   "metadata": {},
   "outputs": [
    {
     "data": {
      "text/plain": [
       "{0: {'Id': \"Black Panther / T'chal\", 'Label': \"Black Panther / T'chal\"},\n",
       " 1: {'Id': 'Loki [asgardian]', 'Label': 'Loki [asgardian]'},\n",
       " 2: {'Id': 'Mantis / ? Brandt', 'Label': 'Mantis / ? Brandt'},\n",
       " 3: {'Id': 'Iceman / Robert Bobby', 'Label': 'Iceman / Robert Bobby'},\n",
       " 4: {'Id': 'Marvel Girl / Jean Grey', 'Label': 'Marvel Girl / Jean Grey'},\n",
       " 5: {'Id': 'Cyclops / Scott Summer', 'Label': 'Cyclops / Scott Summer'},\n",
       " 6: {'Id': 'Klaw / Ulysses Klaw', 'Label': 'Klaw / Ulysses Klaw'},\n",
       " 7: {'Id': 'Human Torch / Johnny S', 'Label': 'Human Torch / Johnny S'},\n",
       " 8: {'Id': 'Richards, Franklin B', 'Label': 'Richards, Franklin B'},\n",
       " 9: {'Id': 'Wolverine / Logan', 'Label': 'Wolverine / Logan'},\n",
       " 10: {'Id': 'Firebird / Bonita Juar', 'Label': 'Firebird / Bonita Juar'},\n",
       " 11: {'Id': 'Mr. Fantastic / Reed R', 'Label': 'Mr. Fantastic / Reed R'},\n",
       " 12: {'Id': 'Medusa / Medusalith Am', 'Label': 'Medusa / Medusalith Am'},\n",
       " 13: {'Id': 'Dr. Strange / Stephen', 'Label': 'Dr. Strange / Stephen'},\n",
       " 14: {'Id': 'Jack Of Hearts / Jack', 'Label': 'Jack Of Hearts / Jack'},\n",
       " 15: {'Id': 'Mephisto', 'Label': 'Mephisto'},\n",
       " 16: {'Id': 'Thanos', 'Label': 'Thanos'},\n",
       " 17: {'Id': 'Swordsman / Jacques Du', 'Label': 'Swordsman / Jacques Du'},\n",
       " 18: {'Id': 'Collector / Taneleer T', 'Label': 'Collector / Taneleer T'},\n",
       " 19: {'Id': 'Lockjaw [inhuman]', 'Label': 'Lockjaw [inhuman]'},\n",
       " 20: {'Id': 'Sub-mariner / Namor Ma', 'Label': 'Sub-mariner / Namor Ma'},\n",
       " 21: {'Id': 'Pharaoh Rama-tut', 'Label': 'Pharaoh Rama-tut'},\n",
       " 22: {'Id': 'Ant-man Ii / Scott Har', 'Label': 'Ant-man Ii / Scott Har'},\n",
       " 23: {'Id': 'Lyja Lazerfist [skru', 'Label': 'Lyja Lazerfist [skru'},\n",
       " 24: {'Id': 'Gorgon [inhuman]', 'Label': 'Gorgon [inhuman]'},\n",
       " 25: {'Id': 'Nighthawk Ii / Kyle Ri', 'Label': 'Nighthawk Ii / Kyle Ri'},\n",
       " 26: {'Id': 'Cage, Luke / Carl Luca', 'Label': 'Cage, Luke / Carl Luca'},\n",
       " 27: {'Id': 'Colossus Ii / Peter Ra', 'Label': 'Colossus Ii / Peter Ra'},\n",
       " 28: {'Id': 'Hellcat / Patsy Walker', 'Label': 'Hellcat / Patsy Walker'},\n",
       " 29: {'Id': 'Karnak [inhuman]', 'Label': 'Karnak [inhuman]'},\n",
       " 30: {'Id': 'Death', 'Label': 'Death'},\n",
       " 31: {'Id': 'Redwing', 'Label': 'Redwing'},\n",
       " 32: {'Id': 'Daredevil / Matt Murdo', 'Label': 'Daredevil / Matt Murdo'},\n",
       " 33: {'Id': 'Norriss, Sister Barb', 'Label': 'Norriss, Sister Barb'},\n",
       " 34: {'Id': 'Rage / Elvin Daryl Hal', 'Label': 'Rage / Elvin Daryl Hal'},\n",
       " 35: {'Id': 'Starfox / Eros', 'Label': 'Starfox / Eros'},\n",
       " 36: {'Id': 'Demolition Man / Denni', 'Label': 'Demolition Man / Denni'},\n",
       " 37: {'Id': 'Sersi / Sylvia', 'Label': 'Sersi / Sylvia'},\n",
       " 38: {'Id': 'Spider-man / Peter Parker', 'Label': 'Spider-man / Peter Parker'},\n",
       " 39: {'Id': 'Vision', 'Label': 'Vision'},\n",
       " 40: {'Id': 'Uatu', 'Label': 'Uatu'},\n",
       " 41: {'Id': 'Binary / Carol Danvers', 'Label': 'Binary / Carol Danvers'},\n",
       " 42: {'Id': 'Gyrich, Henry Peter', 'Label': 'Gyrich, Henry Peter'},\n",
       " 43: {'Id': 'Nightcrawler / Kurt Wa', 'Label': 'Nightcrawler / Kurt Wa'},\n",
       " 44: {'Id': 'Angel / Warren Kenneth', 'Label': 'Angel / Warren Kenneth'},\n",
       " 45: {'Id': 'Silver Surfer / Norrin', 'Label': 'Silver Surfer / Norrin'},\n",
       " 46: {'Id': 'She-hulk / Jennifer Wa', 'Label': 'She-hulk / Jennifer Wa'},\n",
       " 47: {'Id': 'Ghaur [deviant]', 'Label': 'Ghaur [deviant]'},\n",
       " 48: {'Id': 'Dr. Doom / Victor Von', 'Label': 'Dr. Doom / Victor Von'},\n",
       " 49: {'Id': 'Storm / Ororo Munroe S', 'Label': 'Storm / Ororo Munroe S'},\n",
       " 50: {'Id': 'Scarlet Witch / Wanda', 'Label': 'Scarlet Witch / Wanda'},\n",
       " 51: {'Id': 'Toad / Mortimer Toynbe', 'Label': 'Toad / Mortimer Toynbe'},\n",
       " 52: {'Id': 'Hulk / Dr. Robert Bruce Banner',\n",
       "  'Label': 'Hulk / Dr. Robert Bruce Banner'},\n",
       " 53: {'Id': 'Firestar / Angelica Jo', 'Label': 'Firestar / Angelica Jo'},\n",
       " 54: {'Id': 'Wonder Man / Simon Wil', 'Label': 'Wonder Man / Simon Wil'},\n",
       " 55: {'Id': 'Drax / Arthur Douglas', 'Label': 'Drax / Arthur Douglas'},\n",
       " 56: {'Id': 'Dugan, Timothy Aloyi', 'Label': 'Dugan, Timothy Aloyi'},\n",
       " 57: {'Id': 'Carter, Sharon', 'Label': 'Carter, Sharon'},\n",
       " 58: {'Id': 'Black Knight V / Dane', 'Label': 'Black Knight V / Dane'},\n",
       " 59: {'Id': 'Sunfire / Shiro Yoshid', 'Label': 'Sunfire / Shiro Yoshid'},\n",
       " 60: {'Id': 'Triton', 'Label': 'Triton'},\n",
       " 61: {'Id': 'Ultron', 'Label': 'Ultron'},\n",
       " 62: {'Id': 'Jones, Richard Milho', 'Label': 'Jones, Richard Milho'},\n",
       " 63: {'Id': 'Iron Man / Tony Stark', 'Label': 'Iron Man / Tony Stark'},\n",
       " 64: {'Id': 'Nelson, Franklin Fog', 'Label': 'Nelson, Franklin Fog'},\n",
       " 65: {'Id': 'Captain America', 'Label': 'Captain America'},\n",
       " 66: {'Id': 'Jarvis, Edwin', 'Label': 'Jarvis, Edwin'},\n",
       " 67: {'Id': 'Quasar Iii / Wendell V', 'Label': 'Quasar Iii / Wendell V'},\n",
       " 68: {'Id': 'Jameson, J. Jonah', 'Label': 'Jameson, J. Jonah'},\n",
       " 69: {'Id': 'Masters, Alicia Reis', 'Label': 'Masters, Alicia Reis'},\n",
       " 70: {'Id': 'Magneto / Magnus / Eric', 'Label': 'Magneto / Magnus / Eric'},\n",
       " 71: {'Id': 'Invisible Woman / Sue', 'Label': 'Invisible Woman / Sue'},\n",
       " 72: {'Id': 'Professor X / Charles', 'Label': 'Professor X / Charles'},\n",
       " 73: {'Id': 'Iron Fist / Daniel Ran', 'Label': 'Iron Fist / Daniel Ran'},\n",
       " 74: {'Id': 'Black Bolt / Blackanto', 'Label': 'Black Bolt / Blackanto'},\n",
       " 75: {'Id': 'Hawk', 'Label': 'Hawk'},\n",
       " 76: {'Id': 'Sandman / William Bake', 'Label': 'Sandman / William Bake'},\n",
       " 77: {'Id': 'Falcon / Sam Wilson', 'Label': 'Falcon / Sam Wilson'},\n",
       " 78: {'Id': 'Stingray / Dr. Walter', 'Label': 'Stingray / Dr. Walter'},\n",
       " 79: {'Id': 'Justice Ii / Vance Ast', 'Label': 'Justice Ii / Vance Ast'},\n",
       " 80: {'Id': 'Hercules [greek God]', 'Label': 'Hercules [greek God]'},\n",
       " 81: {'Id': 'Usagent / Captain John', 'Label': 'Usagent / Captain John'},\n",
       " 82: {'Id': 'Captain Marvel Ii / Mo', 'Label': 'Captain Marvel Ii / Mo'},\n",
       " 83: {'Id': 'Crystal [inhuman]', 'Label': 'Crystal [inhuman]'},\n",
       " 84: {'Id': 'Tigra / Greer Nelson', 'Label': 'Tigra / Greer Nelson'},\n",
       " 85: {'Id': 'Spider-woman Ii / Juli', 'Label': 'Spider-woman Ii / Juli'},\n",
       " 86: {'Id': 'Machine Man / X-51', 'Label': 'Machine Man / X-51'},\n",
       " 87: {'Id': 'Mockingbird / Dr. Barb', 'Label': 'Mockingbird / Dr. Barb'},\n",
       " 88: {'Id': 'Captain Marvel / Capta', 'Label': 'Captain Marvel / Capta'},\n",
       " 89: {'Id': 'Wasp / Janet Van Dyne', 'Label': 'Wasp / Janet Van Dyne'},\n",
       " 90: {'Id': 'Fury, Col. Nicholas', 'Label': 'Fury, Col. Nicholas'},\n",
       " 91: {'Id': 'Thor / Dr. Donald Blak', 'Label': 'Thor / Dr. Donald Blak'},\n",
       " 92: {'Id': 'Quicksilver / Pietro M', 'Label': 'Quicksilver / Pietro M'},\n",
       " 93: {'Id': 'Captain Britain / Bria', 'Label': 'Captain Britain / Bria'},\n",
       " 94: {'Id': 'Shadowcat / Katherine', 'Label': 'Shadowcat / Katherine'},\n",
       " 95: {'Id': 'Black Widow / Natasha', 'Label': 'Black Widow / Natasha'},\n",
       " 96: {'Id': 'Ant-man / Dr. Henry J.', 'Label': 'Ant-man / Dr. Henry J.'},\n",
       " 97: {'Id': 'Moon Knight / Marc Spe', 'Label': 'Moon Knight / Marc Spe'},\n",
       " 98: {'Id': 'Jocasta', 'Label': 'Jocasta'},\n",
       " 99: {'Id': 'Moondragon / Heather D', 'Label': 'Moondragon / Heather D'},\n",
       " 100: {'Id': 'Thing / Benjamin J. Gr', 'Label': 'Thing / Benjamin J. Gr'},\n",
       " 101: {'Id': 'Beast / Henry &hank& P', 'Label': 'Beast / Henry &hank& P'},\n",
       " 102: {'Id': 'Nova / Richard Rider', 'Label': 'Nova / Richard Rider'},\n",
       " 103: {'Id': 'Wrecker Iii / Dirk Gar', 'Label': 'Wrecker Iii / Dirk Gar'},\n",
       " 104: {'Id': 'Warlock Ii / Adam Warl', 'Label': 'Warlock Ii / Adam Warl'},\n",
       " 105: {'Id': 'Piledriver Ii / Brian', 'Label': 'Piledriver Ii / Brian'},\n",
       " 106: {'Id': 'Thunderball / Dr. Elio', 'Label': 'Thunderball / Dr. Elio'},\n",
       " 107: {'Id': 'Dr. Octopus / Otto Oct', 'Label': 'Dr. Octopus / Otto Oct'},\n",
       " 108: {'Id': 'Banner, Betty Ross T', 'Label': 'Banner, Betty Ross T'},\n",
       " 109: {'Id': 'Avalanche / Dominic Pe', 'Label': 'Avalanche / Dominic Pe'},\n",
       " 110: {'Id': 'Attuma', 'Label': 'Attuma'},\n",
       " 111: {'Id': 'Hela [asgardian]', 'Label': 'Hela [asgardian]'},\n",
       " 112: {'Id': 'Doc Samson / Dr. Leona', 'Label': 'Doc Samson / Dr. Leona'},\n",
       " 113: {'Id': 'Guardian / James Macdo', 'Label': 'Guardian / James Macdo'},\n",
       " 114: {'Id': 'Northstar / Jean-paul', 'Label': 'Northstar / Jean-paul'},\n",
       " 115: {'Id': 'Dr. Druid / Anthony Lu', 'Label': 'Dr. Druid / Anthony Lu'},\n",
       " 116: {'Id': 'Watson-parker, Mary', 'Label': 'Watson-parker, Mary'},\n",
       " 117: {'Id': 'Mystique / Raven Darkh', 'Label': 'Mystique / Raven Darkh'},\n",
       " 118: {'Id': 'Pyro / Allerdyce Johnn', 'Label': 'Pyro / Allerdyce Johnn'},\n",
       " 119: {'Id': 'Destiny Ii / Irene Adl', 'Label': 'Destiny Ii / Irene Adl'},\n",
       " 120: {'Id': 'Mister Hyde / Calvin Z', 'Label': 'Mister Hyde / Calvin Z'},\n",
       " 121: {'Id': 'Ghost Rider Ii / Johnn', 'Label': 'Ghost Rider Ii / Johnn'},\n",
       " 122: {'Id': 'Mole Man / Harvey Rupe', 'Label': 'Mole Man / Harvey Rupe'},\n",
       " 123: {'Id': 'Firelord / Pyreus Kril', 'Label': 'Firelord / Pyreus Kril'},\n",
       " 124: {'Id': 'Leader / Sam Sterns', 'Label': 'Leader / Sam Sterns'},\n",
       " 125: {'Id': 'Le Fey, Morgan', 'Label': 'Le Fey, Morgan'},\n",
       " 126: {'Id': 'Bulldozer / Henry Camp', 'Label': 'Bulldozer / Henry Camp'},\n",
       " 127: {'Id': 'Forgotten One / Gilgam', 'Label': 'Forgotten One / Gilgam'},\n",
       " 128: {'Id': 'Balder [asgardian]', 'Label': 'Balder [asgardian]'},\n",
       " 129: {'Id': 'Hogun [asgardian]', 'Label': 'Hogun [asgardian]'},\n",
       " 130: {'Id': 'Hellstorm / Daimon Hel', 'Label': 'Hellstorm / Daimon Hel'},\n",
       " 131: {'Id': 'Aurora / Jeanne-marie', 'Label': 'Aurora / Jeanne-marie'},\n",
       " 132: {'Id': \"O'brien, Michael\", 'Label': \"O'brien, Michael\"},\n",
       " 133: {'Id': 'Stankowicz, Fabian', 'Label': 'Stankowicz, Fabian'},\n",
       " 134: {'Id': 'Screaming Mimi / Melis', 'Label': 'Screaming Mimi / Melis'},\n",
       " 135: {'Id': 'Moonstone Ii / Karla S', 'Label': 'Moonstone Ii / Karla S'},\n",
       " 136: {'Id': 'Fixer Ii / Paul Norber', 'Label': 'Fixer Ii / Paul Norber'},\n",
       " 137: {'Id': 'Darkstar / Laynia Serg', 'Label': 'Darkstar / Laynia Serg'},\n",
       " 138: {'Id': 'Vanguard / Nicolai Kry', 'Label': 'Vanguard / Nicolai Kry'},\n",
       " 139: {'Id': 'Gamora', 'Label': 'Gamora'},\n",
       " 140: {'Id': 'Psylocke / Elisabeth B', 'Label': 'Psylocke / Elisabeth B'},\n",
       " 141: {'Id': 'Rogue  / ', 'Label': 'Rogue  / '},\n",
       " 142: {'Id': 'Sasquatch / Walter Lan', 'Label': 'Sasquatch / Walter Lan'},\n",
       " 143: {'Id': 'Luna / Luna Maximoff [', 'Label': 'Luna / Luna Maximoff ['},\n",
       " 144: {'Id': 'Whizzer Ii / Stanley S', 'Label': 'Whizzer Ii / Stanley S'},\n",
       " 145: {'Id': 'Dr. Spectrum / Joseph', 'Label': 'Dr. Spectrum / Joseph'},\n",
       " 146: {'Id': 'Kingpin / Wilson Fisk', 'Label': 'Kingpin / Wilson Fisk'},\n",
       " 147: {'Id': 'Clea', 'Label': 'Clea'},\n",
       " 148: {'Id': 'Polaris / Lorna Dane', 'Label': 'Polaris / Lorna Dane'},\n",
       " 149: {'Id': 'De La Fontaine, Cont', 'Label': 'De La Fontaine, Cont'},\n",
       " 150: {'Id': 'Heimdall [asgardian]', 'Label': 'Heimdall [asgardian]'},\n",
       " 151: {'Id': 'Red Skull / Johann Sch', 'Label': 'Red Skull / Johann Sch'},\n",
       " 152: {'Id': 'Thompson, Eugene Fla', 'Label': 'Thompson, Eugene Fla'},\n",
       " 153: {'Id': 'Wong', 'Label': 'Wong'},\n",
       " 154: {'Id': 'Parker, May', 'Label': 'Parker, May'},\n",
       " 155: {'Id': 'Green Goblin / Norman', 'Label': 'Green Goblin / Norman'},\n",
       " 156: {'Id': 'Night Thrasher / Duane', 'Label': 'Night Thrasher / Duane'},\n",
       " 157: {'Id': 'Eternity / Adam Qadmon', 'Label': 'Eternity / Adam Qadmon'},\n",
       " 158: {'Id': 'Galactus / Galan', 'Label': 'Galactus / Galan'},\n",
       " 159: {'Id': 'Triathlon / Delroy Gar', 'Label': 'Triathlon / Delroy Gar'},\n",
       " 160: {'Id': 'Beetle / Abner Ronald', 'Label': 'Beetle / Abner Ronald'},\n",
       " 161: {'Id': 'Lilandra Neramani [s', 'Label': 'Lilandra Neramani [s'},\n",
       " 162: {'Id': 'Odin [asgardian]', 'Label': 'Odin [asgardian]'},\n",
       " 163: {'Id': 'Hogan, Virginia Pepp', 'Label': 'Hogan, Virginia Pepp'},\n",
       " 164: {'Id': 'Mad Dog / Colonel Buzz', 'Label': 'Mad Dog / Colonel Buzz'},\n",
       " 165: {'Id': 'Kincaid, Dr. Jane Fo', 'Label': 'Kincaid, Dr. Jane Fo'},\n",
       " 166: {'Id': 'Wizard / Bentley Wittm', 'Label': 'Wizard / Bentley Wittm'},\n",
       " 167: {'Id': 'Charcoal / Charlie Bur', 'Label': 'Charcoal / Charlie Bur'},\n",
       " 168: {'Id': 'Blob / Fred J. Dukes', 'Label': 'Blob / Fred J. Dukes'},\n",
       " 169: {'Id': 'Cloak / Tyrone Johnson', 'Label': 'Cloak / Tyrone Johnson'},\n",
       " 170: {'Id': 'Thunderstrike / Eric K', 'Label': 'Thunderstrike / Eric K'},\n",
       " 171: {'Id': 'Power Man / Erik Joste', 'Label': 'Power Man / Erik Joste'},\n",
       " 172: {'Id': 'Human Torch Android / ', 'Label': 'Human Torch Android / '},\n",
       " 173: {'Id': 'Juggernaut / Cain Mark', 'Label': 'Juggernaut / Cain Mark'},\n",
       " 174: {'Id': 'Absorbing Man / Carl C', 'Label': 'Absorbing Man / Carl C'},\n",
       " 175: {'Id': 'Volstagg', 'Label': 'Volstagg'},\n",
       " 176: {'Id': 'Shaman / Michael Twoyo', 'Label': 'Shaman / Michael Twoyo'},\n",
       " 177: {'Id': 'Snowbird / Narya / Anne', 'Label': 'Snowbird / Narya / Anne'},\n",
       " 178: {'Id': 'Dagger / Tandy Bowen', 'Label': 'Dagger / Tandy Bowen'},\n",
       " 179: {'Id': 'Phoenix Iii / Rachel S', 'Label': 'Phoenix Iii / Rachel S'},\n",
       " 180: {'Id': 'Mandarin', 'Label': 'Mandarin'},\n",
       " 181: {'Id': 'Fandral [asgardian]', 'Label': 'Fandral [asgardian]'},\n",
       " 182: {'Id': 'Ms. Marvel Ii / Sharon', 'Label': 'Ms. Marvel Ii / Sharon'},\n",
       " 183: {'Id': 'Pip / Prince Gofern', 'Label': 'Pip / Prince Gofern'},\n",
       " 184: {'Id': 'Enchantress / Amora / He', 'Label': 'Enchantress / Amora / He'},\n",
       " 185: {'Id': 'Jameson, Col. John', 'Label': 'Jameson, Col. John'},\n",
       " 186: {'Id': 'Cooper, Dr. Valerie', 'Label': 'Cooper, Dr. Valerie'},\n",
       " 187: {'Id': 'Nova Ii / Frankie Raye', 'Label': 'Nova Ii / Frankie Raye'},\n",
       " 188: {'Id': 'Darkhawk / Chris Powel', 'Label': 'Darkhawk / Chris Powel'},\n",
       " 189: {'Id': 'Nomad Iii / Jack Monro', 'Label': 'Nomad Iii / Jack Monro'},\n",
       " 190: {'Id': 'Robertson, Joe', 'Label': 'Robertson, Joe'},\n",
       " 191: {'Id': 'Gargoyle Ii / Isaac Ch', 'Label': 'Gargoyle Ii / Isaac Ch'},\n",
       " 192: {'Id': 'Namorita / Nita Prenti', 'Label': 'Namorita / Nita Prenti'},\n",
       " 193: {'Id': 'Iron Man Iv / James R.', 'Label': 'Iron Man Iv / James R.'},\n",
       " 194: {'Id': 'Ross, Gen. Thaddeus', 'Label': 'Ross, Gen. Thaddeus'},\n",
       " 195: {'Id': 'Harkness, Agatha', 'Label': 'Harkness, Agatha'},\n",
       " 196: {'Id': 'Carter, Peggy', 'Label': 'Carter, Peggy'},\n",
       " 197: {'Id': 'Hyperion', 'Label': 'Hyperion'},\n",
       " 198: {'Id': 'Living Lightning / Mig', 'Label': 'Living Lightning / Mig'},\n",
       " 199: {'Id': 'Jones, Gabe', 'Label': 'Jones, Gabe'},\n",
       " 200: {'Id': 'Osborn, Liz Allan', 'Label': 'Osborn, Liz Allan'},\n",
       " 201: {'Id': 'Leeds, Betty Brant', 'Label': 'Leeds, Betty Brant'},\n",
       " 202: {'Id': 'Sif', 'Label': 'Sif'},\n",
       " 203: {'Id': 'Dazzler Ii / Allison B', 'Label': 'Dazzler Ii / Allison B'},\n",
       " 204: {'Id': 'Molecule Man / Owen Re', 'Label': 'Molecule Man / Owen Re'},\n",
       " 205: {'Id': 'Speedball / Robbie Bal', 'Label': 'Speedball / Robbie Bal'},\n",
       " 206: {'Id': 'Lizard / Dr. Curtis Co', 'Label': 'Lizard / Dr. Curtis Co'},\n",
       " 207: {'Id': 'Volcana / Marsha Rosen', 'Label': 'Volcana / Marsha Rosen'},\n",
       " 208: {'Id': 'Lockheed', 'Label': 'Lockheed'},\n",
       " 209: {'Id': 'Titania Ii / Mary Skee', 'Label': 'Titania Ii / Mary Skee'},\n",
       " 210: {'Id': 'Boomer / Tabitha Smith', 'Label': 'Boomer / Tabitha Smith'},\n",
       " 211: {'Id': 'Summers, Nathan Chri', 'Label': 'Summers, Nathan Chri'},\n",
       " 212: {'Id': 'Summers, Madelyne Ma', 'Label': 'Summers, Madelyne Ma'},\n",
       " 213: {'Id': 'Mactaggert, Moira Ki', 'Label': 'Mactaggert, Moira Ki'},\n",
       " 214: {'Id': 'Cannonball Ii / Sam Gu', 'Label': 'Cannonball Ii / Sam Gu'},\n",
       " 215: {'Id': 'Tilby, Trish / Patrici', 'Label': 'Tilby, Trish / Patrici'},\n",
       " 216: {'Id': 'Skids / Sally Blevins', 'Label': 'Skids / Sally Blevins'},\n",
       " 217: {'Id': 'Wolfsbane / Rahne Sinc', 'Label': 'Wolfsbane / Rahne Sinc'},\n",
       " 218: {'Id': 'Leech', 'Label': 'Leech'},\n",
       " 219: {'Id': 'Mirage Ii / Danielle M', 'Label': 'Mirage Ii / Danielle M'},\n",
       " 220: {'Id': 'Gambit / Remy Lebeau', 'Label': 'Gambit / Remy Lebeau'},\n",
       " 221: {'Id': 'Jubilee / Jubilation L', 'Label': 'Jubilee / Jubilation L'},\n",
       " 222: {'Id': 'Strong Guy / Guido Car', 'Label': 'Strong Guy / Guido Car'},\n",
       " 223: {'Id': 'Spiral', 'Label': 'Spiral'},\n",
       " 224: {'Id': 'Banshee / Sean Cassidy', 'Label': 'Banshee / Sean Cassidy'},\n",
       " 225: {'Id': 'Legion Ii / David Hall', 'Label': 'Legion Ii / David Hall'},\n",
       " 226: {'Id': 'Havok / Alex Summers', 'Label': 'Havok / Alex Summers'},\n",
       " 227: {'Id': 'Longshot', 'Label': 'Longshot'},\n",
       " 228: {'Id': 'Forge', 'Label': 'Forge'},\n",
       " 229: {'Id': 'Sabretooth / Victor Cr', 'Label': 'Sabretooth / Victor Cr'},\n",
       " 230: {'Id': 'Maddicks, Arthur Art', 'Label': 'Maddicks, Arthur Art'},\n",
       " 231: {'Id': 'Warlock Iii', 'Label': 'Warlock Iii'},\n",
       " 232: {'Id': 'Rictor / Julio Esteban', 'Label': 'Rictor / Julio Esteban'},\n",
       " 233: {'Id': 'Sunspot / Roberto Daco', 'Label': 'Sunspot / Roberto Daco'},\n",
       " 234: {'Id': 'Firefist / Rusty Colli', 'Label': 'Firefist / Rusty Colli'},\n",
       " 235: {'Id': 'Bishop  / ', 'Label': 'Bishop  / '},\n",
       " 236: {'Id': 'Daytripper / Amanda Se', 'Label': 'Daytripper / Amanda Se'},\n",
       " 237: {'Id': 'Wild Child / Kyle Gibn', 'Label': 'Wild Child / Kyle Gibn'},\n",
       " 238: {'Id': 'Thunderbird Ii / James', 'Label': 'Thunderbird Ii / James'},\n",
       " 239: {'Id': 'Sauron / Dr. Karl Lyko', 'Label': 'Sauron / Dr. Karl Lyko'},\n",
       " 240: {'Id': 'Siryn / Theresa Rourke', 'Label': 'Siryn / Theresa Rourke'},\n",
       " 241: {'Id': 'Shatterstar Ii / Gavee', 'Label': 'Shatterstar Ii / Gavee'},\n",
       " 242: {'Id': 'Marrow / Sarah', 'Label': 'Marrow / Sarah'},\n",
       " 243: {'Id': 'Feral / Maria Callasan', 'Label': 'Feral / Maria Callasan'},\n",
       " 244: {'Id': 'Callisto', 'Label': 'Callisto'},\n",
       " 245: {'Id': 'Mr. Sinister / Nathan', 'Label': 'Mr. Sinister / Nathan'},\n",
       " 246: {'Id': 'Raza Longknife', 'Label': 'Raza Longknife'},\n",
       " 247: {'Id': 'Spider-woman / Jessica', 'Label': 'Spider-woman / Jessica'},\n",
       " 248: {'Id': 'Cypher / Doug Ramsey', 'Label': 'Cypher / Doug Ramsey'},\n",
       " 249: {'Id': \"Deathbird [shi'ar]\", 'Label': \"Deathbird [shi'ar]\"},\n",
       " 250: {'Id': 'Hudson, Heather', 'Label': 'Hudson, Heather'},\n",
       " 251: {'Id': 'Stryfe', 'Label': 'Stryfe'},\n",
       " 252: {'Id': 'Iron Man Doppelgange', 'Label': 'Iron Man Doppelgange'},\n",
       " 253: {'Id': 'Puck / Eugene Milton J', 'Label': 'Puck / Eugene Milton J'},\n",
       " 254: {'Id': 'Silhouette', 'Label': 'Silhouette'},\n",
       " 255: {'Id': 'Cortez, Fabian', 'Label': 'Cortez, Fabian'},\n",
       " 256: {'Id': 'Black King / Sebastian', 'Label': 'Black King / Sebastian'},\n",
       " 257: {'Id': 'Magik / Illyana Rasput', 'Label': 'Magik / Illyana Rasput'},\n",
       " 258: {'Id': 'Zabu', 'Label': 'Zabu'},\n",
       " 259: {'Id': 'Domino Iii / Beatrice / ', 'Label': 'Domino Iii / Beatrice / '},\n",
       " 260: {'Id': 'Caliban / ', 'Label': 'Caliban / '},\n",
       " 261: {'Id': 'Apocalypse / En Sabah', 'Label': 'Apocalypse / En Sabah'},\n",
       " 262: {'Id': 'Hunter, Stevie', 'Label': 'Hunter, Stevie'},\n",
       " 263: {'Id': 'Corsair', 'Label': 'Corsair'},\n",
       " 264: {'Id': \"Ch'od\", 'Label': \"Ch'od\"},\n",
       " 265: {'Id': \"Mam'selle Hepzibah\", 'Label': \"Mam'selle Hepzibah\"},\n",
       " 266: {'Id': 'Zero', 'Label': 'Zero'},\n",
       " 267: {'Id': 'X-man / Nathan Grey', 'Label': 'X-man / Nathan Grey'},\n",
       " 268: {'Id': \"Karma / Xi'an Coy Manh\", 'Label': \"Karma / Xi'an Coy Manh\"},\n",
       " 269: {'Id': 'Mr. Fantastic Doppel', 'Label': 'Mr. Fantastic Doppel'},\n",
       " 270: {'Id': 'Beyonder', 'Label': 'Beyonder'},\n",
       " 271: {'Id': 'Multiple Man / James A', 'Label': 'Multiple Man / James A'},\n",
       " 272: {'Id': 'Colossus Ii Doppelga', 'Label': 'Colossus Ii Doppelga'},\n",
       " 273: {'Id': 'Scanner Ii', 'Label': 'Scanner Ii'},\n",
       " 274: {'Id': 'Ka-zar / Kevin Plunder', 'Label': 'Ka-zar / Kevin Plunder'},\n",
       " 275: {'Id': 'White Queen / Emma Fro', 'Label': 'White Queen / Emma Fro'},\n",
       " 276: {'Id': 'Magma / Amara Aquilla / ', 'Label': 'Magma / Amara Aquilla / '},\n",
       " 277: {'Id': 'Thanos Doppelganger', 'Label': 'Thanos Doppelganger'},\n",
       " 278: {'Id': 'Magus', 'Label': 'Magus'},\n",
       " 279: {'Id': 'Knight, Misty', 'Label': 'Knight, Misty'},\n",
       " 280: {'Id': 'Wing, Colleen', 'Label': 'Wing, Colleen'},\n",
       " 281: {'Id': 'Puppet Master / Philli', 'Label': 'Puppet Master / Philli'},\n",
       " 282: {'Id': 'Maximus [inhuman]', 'Label': 'Maximus [inhuman]'},\n",
       " 283: {'Id': 'Punisher Ii / Frank Ca', 'Label': 'Punisher Ii / Frank Ca'},\n",
       " 284: {'Id': 'Zeus', 'Label': 'Zeus'},\n",
       " 285: {'Id': 'Box Iv / Madison Jeffr', 'Label': 'Box Iv / Madison Jeffr'},\n",
       " 286: {'Id': 'Thena', 'Label': 'Thena'},\n",
       " 287: {'Id': 'Black Cat / Felicia Ha', 'Label': 'Black Cat / Felicia Ha'},\n",
       " 288: {'Id': 'Gee / Alex Power', 'Label': 'Gee / Alex Power'},\n",
       " 289: {'Id': 'Spider-man Clone / Ben', 'Label': 'Spider-man Clone / Ben'},\n",
       " 290: {'Id': 'Ulik', 'Label': 'Ulik'},\n",
       " 291: {'Id': 'Citizen V Ii / Helmut', 'Label': 'Citizen V Ii / Helmut'},\n",
       " 292: {'Id': 'High Evolutionary / He', 'Label': 'High Evolutionary / He'},\n",
       " 293: {'Id': 'Hobgoblin V / Jason Ph', 'Label': 'Hobgoblin V / Jason Ph'},\n",
       " 294: {'Id': 'Ghost Rider Iii / Dan', 'Label': 'Ghost Rider Iii / Dan'},\n",
       " 295: {'Id': 'Cushing, Kate', 'Label': 'Cushing, Kate'},\n",
       " 296: {'Id': 'Katzenberg, Nick', 'Label': 'Katzenberg, Nick'},\n",
       " 297: {'Id': 'Vizier', 'Label': 'Vizier'},\n",
       " 298: {'Id': 'Tombstone / Lonnie Tho', 'Label': 'Tombstone / Lonnie Tho'},\n",
       " 299: {'Id': 'Mercado, Joy', 'Label': 'Mercado, Joy'},\n",
       " 300: {'Id': 'Hammerhead', 'Label': 'Hammerhead'},\n",
       " 301: {'Id': 'Arranger / ', 'Label': 'Arranger / '},\n",
       " 302: {'Id': 'Osborn, Harry', 'Label': 'Osborn, Harry'},\n",
       " 303: {'Id': 'Cobra / Klaus Vorhees', 'Label': 'Cobra / Klaus Vorhees'},\n",
       " 304: {'Id': 'Leeds, Ned', 'Label': 'Leeds, Ned'},\n",
       " 305: {'Id': 'Watson, Anna', 'Label': 'Watson, Anna'},\n",
       " 306: {'Id': 'Urich, Ben', 'Label': 'Urich, Ben'},\n",
       " 307: {'Id': 'Robertson, Randy', 'Label': 'Robertson, Randy'},\n",
       " 308: {'Id': 'Page, Karen', 'Label': 'Page, Karen'},\n",
       " 309: {'Id': 'Grant, Gloria Glory', 'Label': 'Grant, Gloria Glory'},\n",
       " 310: {'Id': 'Lubenski, Nate', 'Label': 'Lubenski, Nate'},\n",
       " 311: {'Id': 'Ikaris / Ike Harris [e', 'Label': 'Ikaris / Ike Harris [e'},\n",
       " 312: {'Id': 'Rosenthal, Bernie', 'Label': 'Rosenthal, Bernie'},\n",
       " 313: {'Id': 'Gladiator Ii', 'Label': 'Gladiator Ii'},\n",
       " 314: {'Id': 'Beta Ray Bill', 'Label': 'Beta Ray Bill'},\n",
       " 315: {'Id': 'Bridge, George Washi', 'Label': 'Bridge, George Washi'},\n",
       " 316: {'Id': 'Diamond Lil / Lillian', 'Label': 'Diamond Lil / Lillian'},\n",
       " 317: {'Id': 'Asp Ii / Cleo', 'Label': 'Asp Ii / Cleo'},\n",
       " 318: {'Id': 'Black Mamba / Tanya Se', 'Label': 'Black Mamba / Tanya Se'},\n",
       " 319: {'Id': 'Meggan', 'Label': 'Meggan'},\n",
       " 320: {'Id': 'Austin, Susan', 'Label': 'Austin, Susan'},\n",
       " 321: {'Id': 'Diamondback Ii / Rache', 'Label': 'Diamondback Ii / Rache'},\n",
       " 322: {'Id': 'Makkari / Mike Khary / I', 'Label': 'Makkari / Mike Khary / I'},\n",
       " 323: {'Id': 'Hodge, Cameron', 'Label': 'Hodge, Cameron'},\n",
       " 324: {'Id': 'Skin / Angelo Espinosa', 'Label': 'Skin / Angelo Espinosa'},\n",
       " 325: {'Id': 'Husk / Paige Guthrie', 'Label': 'Husk / Paige Guthrie'},\n",
       " 326: {'Id': 'Deadpool / Jack / Wade W', 'Label': 'Deadpool / Jack / Wade W'}}"
      ]
     },
     "execution_count": 18,
     "metadata": {},
     "output_type": "execute_result"
    }
   ],
   "source": [
    "pd.read_csv(node_list_filepath).to_dict(orient=\"index\")"
   ]
  },
  {
   "cell_type": "code",
   "execution_count": 19,
   "id": "a07635d4",
   "metadata": {},
   "outputs": [],
   "source": [
    "node_list_dict = pd.read_csv(node_list_filepath).to_dict(orient=\"index\")\n",
    "id_list = []\n",
    "label_list = []\n",
    "node_dict = {}\n",
    "\n",
    "for key, value in node_list_dict.items():\n",
    "    node_dict[value[\"Label\"]] = key\n"
   ]
  },
  {
   "cell_type": "code",
   "execution_count": 22,
   "id": "ab3d27a0",
   "metadata": {},
   "outputs": [
    {
     "data": {
      "text/plain": [
       "327"
      ]
     },
     "execution_count": 22,
     "metadata": {},
     "output_type": "execute_result"
    }
   ],
   "source": [
    "len(node_dict)"
   ]
  },
  {
   "cell_type": "code",
   "execution_count": 23,
   "id": "d73d879d",
   "metadata": {},
   "outputs": [],
   "source": [
    "matrix_size = len(node_dict)\n",
    "adjacency_matrix = np.zeros((matrix_size, matrix_size))"
   ]
  },
  {
   "cell_type": "code",
   "execution_count": 25,
   "id": "609e97ce",
   "metadata": {},
   "outputs": [
    {
     "data": {
      "text/plain": [
       "(327, 327)"
      ]
     },
     "execution_count": 25,
     "metadata": {},
     "output_type": "execute_result"
    }
   ],
   "source": [
    "adjacency_matrix.shape"
   ]
  },
  {
   "cell_type": "code",
   "execution_count": 26,
   "id": "adf996d6",
   "metadata": {},
   "outputs": [
    {
     "data": {
      "text/html": [
       "<div>\n",
       "<style scoped>\n",
       "    .dataframe tbody tr th:only-of-type {\n",
       "        vertical-align: middle;\n",
       "    }\n",
       "\n",
       "    .dataframe tbody tr th {\n",
       "        vertical-align: top;\n",
       "    }\n",
       "\n",
       "    .dataframe thead th {\n",
       "        text-align: right;\n",
       "    }\n",
       "</style>\n",
       "<table border=\"1\" class=\"dataframe\">\n",
       "  <thead>\n",
       "    <tr style=\"text-align: right;\">\n",
       "      <th></th>\n",
       "      <th>Source</th>\n",
       "      <th>Target</th>\n",
       "      <th>Weight</th>\n",
       "    </tr>\n",
       "  </thead>\n",
       "  <tbody>\n",
       "    <tr>\n",
       "      <th>0</th>\n",
       "      <td>Black Panther / T'chal</td>\n",
       "      <td>Loki [asgardian]</td>\n",
       "      <td>10</td>\n",
       "    </tr>\n",
       "    <tr>\n",
       "      <th>1</th>\n",
       "      <td>Black Panther / T'chal</td>\n",
       "      <td>Mantis / ? Brandt</td>\n",
       "      <td>23</td>\n",
       "    </tr>\n",
       "    <tr>\n",
       "      <th>2</th>\n",
       "      <td>Black Panther / T'chal</td>\n",
       "      <td>Iceman / Robert Bobby</td>\n",
       "      <td>12</td>\n",
       "    </tr>\n",
       "    <tr>\n",
       "      <th>3</th>\n",
       "      <td>Black Panther / T'chal</td>\n",
       "      <td>Marvel Girl / Jean Grey</td>\n",
       "      <td>10</td>\n",
       "    </tr>\n",
       "    <tr>\n",
       "      <th>4</th>\n",
       "      <td>Black Panther / T'chal</td>\n",
       "      <td>Cyclops / Scott Summer</td>\n",
       "      <td>14</td>\n",
       "    </tr>\n",
       "    <tr>\n",
       "      <th>...</th>\n",
       "      <td>...</td>\n",
       "      <td>...</td>\n",
       "      <td>...</td>\n",
       "    </tr>\n",
       "    <tr>\n",
       "      <th>9886</th>\n",
       "      <td>Mr. Fantastic Doppel</td>\n",
       "      <td>Iron Man Doppelgange</td>\n",
       "      <td>7</td>\n",
       "    </tr>\n",
       "    <tr>\n",
       "      <th>9887</th>\n",
       "      <td>Maddicks, Arthur Art</td>\n",
       "      <td>Hodge, Cameron</td>\n",
       "      <td>18</td>\n",
       "    </tr>\n",
       "    <tr>\n",
       "      <th>9888</th>\n",
       "      <td>Maddicks, Arthur Art</td>\n",
       "      <td>Leech</td>\n",
       "      <td>55</td>\n",
       "    </tr>\n",
       "    <tr>\n",
       "      <th>9889</th>\n",
       "      <td>Leech</td>\n",
       "      <td>Hodge, Cameron</td>\n",
       "      <td>11</td>\n",
       "    </tr>\n",
       "    <tr>\n",
       "      <th>9890</th>\n",
       "      <td>Mam'selle Hepzibah</td>\n",
       "      <td>Raza Longknife</td>\n",
       "      <td>34</td>\n",
       "    </tr>\n",
       "  </tbody>\n",
       "</table>\n",
       "<p>9891 rows × 3 columns</p>\n",
       "</div>"
      ],
      "text/plain": [
       "                      Source                   Target  Weight\n",
       "0     Black Panther / T'chal         Loki [asgardian]      10\n",
       "1     Black Panther / T'chal        Mantis / ? Brandt      23\n",
       "2     Black Panther / T'chal    Iceman / Robert Bobby      12\n",
       "3     Black Panther / T'chal  Marvel Girl / Jean Grey      10\n",
       "4     Black Panther / T'chal   Cyclops / Scott Summer      14\n",
       "...                      ...                      ...     ...\n",
       "9886    Mr. Fantastic Doppel     Iron Man Doppelgange       7\n",
       "9887    Maddicks, Arthur Art           Hodge, Cameron      18\n",
       "9888    Maddicks, Arthur Art                    Leech      55\n",
       "9889                   Leech           Hodge, Cameron      11\n",
       "9890      Mam'selle Hepzibah           Raza Longknife      34\n",
       "\n",
       "[9891 rows x 3 columns]"
      ]
     },
     "execution_count": 26,
     "metadata": {},
     "output_type": "execute_result"
    }
   ],
   "source": [
    "df = pd.read_csv(edge_list_filepath)\n",
    "df"
   ]
  },
  {
   "cell_type": "code",
   "execution_count": 30,
   "id": "5517fe12",
   "metadata": {},
   "outputs": [],
   "source": [
    "def set_weight_for_matrix(row):\n",
    "    source_idx = node_dict[row[\"Source\"]]\n",
    "    target_idx = node_dict[row[\"Target\"]]\n",
    "    weight = row[\"Weight\"]\n",
    "    adjacency_matrix[source_idx][target_idx] = weight"
   ]
  },
  {
   "cell_type": "code",
   "execution_count": 31,
   "id": "a649ed7e",
   "metadata": {},
   "outputs": [
    {
     "data": {
      "text/plain": [
       "0       None\n",
       "1       None\n",
       "2       None\n",
       "3       None\n",
       "4       None\n",
       "        ... \n",
       "9886    None\n",
       "9887    None\n",
       "9888    None\n",
       "9889    None\n",
       "9890    None\n",
       "Length: 9891, dtype: object"
      ]
     },
     "execution_count": 31,
     "metadata": {},
     "output_type": "execute_result"
    }
   ],
   "source": [
    "df = pd.read_csv(edge_list_filepath)\n",
    "df.apply(set_weight_for_matrix, axis=1)"
   ]
  },
  {
   "cell_type": "code",
   "execution_count": 32,
   "id": "24acbd72",
   "metadata": {},
   "outputs": [
    {
     "data": {
      "text/plain": [
       "array([[ 0., 10., 23., ...,  0.,  0.,  0.],\n",
       "       [ 0.,  0.,  7., ...,  0.,  0.,  0.],\n",
       "       [ 0.,  0.,  0., ...,  0.,  0.,  0.],\n",
       "       ...,\n",
       "       [ 0.,  0.,  0., ...,  0., 69.,  0.],\n",
       "       [ 0.,  0.,  0., ...,  0.,  0.,  0.],\n",
       "       [ 0.,  0.,  0., ...,  0.,  0.,  0.]])"
      ]
     },
     "execution_count": 32,
     "metadata": {},
     "output_type": "execute_result"
    }
   ],
   "source": [
    "adjacency_matrix"
   ]
  },
  {
   "cell_type": "code",
   "execution_count": 44,
   "id": "7e550796",
   "metadata": {},
   "outputs": [
    {
     "name": "stdout",
     "output_type": "stream",
     "text": [
      "Requirement already satisfied: networkx in /Users/noah/.local/lib/python3.8/site-packages (2.8.8)\n"
     ]
    }
   ],
   "source": [
    "!pip install networkx"
   ]
  },
  {
   "cell_type": "code",
   "execution_count": 48,
   "id": "53204ae5",
   "metadata": {},
   "outputs": [
    {
     "ename": "ModuleNotFoundError",
     "evalue": "No module named 'networkx'",
     "output_type": "error",
     "traceback": [
      "\u001b[0;31m---------------------------------------------------------------------------\u001b[0m",
      "\u001b[0;31mModuleNotFoundError\u001b[0m                       Traceback (most recent call last)",
      "Cell \u001b[0;32mIn [48], line 1\u001b[0m\n\u001b[0;32m----> 1\u001b[0m \u001b[38;5;28;01mimport\u001b[39;00m \u001b[38;5;21;01mnetworkx\u001b[39;00m \u001b[38;5;28;01mas\u001b[39;00m \u001b[38;5;21;01mnx\u001b[39;00m\n\u001b[1;32m      2\u001b[0m G \u001b[38;5;241m=\u001b[39m nx\u001b[38;5;241m.\u001b[39mGraph()\n\u001b[1;32m      3\u001b[0m \u001b[38;5;28;01mfor\u001b[39;00m row \u001b[38;5;129;01min\u001b[39;00m df\u001b[38;5;241m.\u001b[39miterrows():\n",
      "\u001b[0;31mModuleNotFoundError\u001b[0m: No module named 'networkx'"
     ]
    }
   ],
   "source": [
    "import networkx as nx\n",
    "G = nx.Graph()\n",
    "for row in df.iterrows():\n",
    "    source_idx = row[1][\"Source\"]\n",
    "    target_idx = row[1][\"Target\"]\n",
    "    weight = row[1][\"Weight\"]\n",
    "    G.add_edge(source_idx, target_idx, weight=weight)"
   ]
  },
  {
   "cell_type": "code",
   "execution_count": null,
   "id": "15af600e",
   "metadata": {},
   "outputs": [],
   "source": []
  },
  {
   "cell_type": "code",
   "execution_count": null,
   "id": "6e2c9cad",
   "metadata": {},
   "outputs": [],
   "source": []
  }
 ],
 "metadata": {
  "kernelspec": {
   "display_name": "Python 3.8.13 ('dsaa')",
   "language": "python",
   "name": "python3"
  },
  "language_info": {
   "codemirror_mode": {
    "name": "ipython",
    "version": 3
   },
   "file_extension": ".py",
   "mimetype": "text/x-python",
   "name": "python",
   "nbconvert_exporter": "python",
   "pygments_lexer": "ipython3",
   "version": "3.8.13"
  },
  "vscode": {
   "interpreter": {
    "hash": "fa63994eed5769f11ed5972f83ecaf2ad80010748e1f4531ac809bd3cc744aeb"
   }
  }
 },
 "nbformat": 4,
 "nbformat_minor": 5
}
