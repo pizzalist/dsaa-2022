{
 "cells": [
  {
   "cell_type": "code",
   "execution_count": 3,
   "metadata": {},
   "outputs": [
    {
     "name": "stdout",
     "output_type": "stream",
     "text": [
      "(0, 1)\n"
     ]
    }
   ],
   "source": [
    "def search_matched_sum(arr : list, target : int):\n",
    "\tfor i in arr:\n",
    "\t\tfor j in arr:\n",
    "\t\t\tif i + j == target:\n",
    "\t\t\t\tmin_index = (arr.index(j),arr.index(i))\n",
    "\treturn min_index\n",
    "\n",
    "arr = [5, 4, 2, 1]\n",
    "result = search_matched_sum(arr, 3)\n",
    "print(result) \n",
    "# (2, 3)"
   ]
  },
  {
   "cell_type": "code",
   "execution_count": null,
   "metadata": {},
   "outputs": [],
   "source": []
  },
  {
   "cell_type": "code",
   "execution_count": null,
   "metadata": {},
   "outputs": [],
   "source": []
  },
  {
   "cell_type": "code",
   "execution_count": 16,
   "metadata": {},
   "outputs": [
    {
     "name": "stdout",
     "output_type": "stream",
     "text": [
      "None\n",
      "None\n"
     ]
    }
   ],
   "source": [
    "def search_matched_sum(arr : list, target : int):\n",
    "\t\n",
    "\tdef merge_sort(arr):\n",
    "\t\tif len(arr) >1:\n",
    "\t\t\tmid = len(arr)// 2\n",
    "\t\t\tleft = arr[:mid]\n",
    "\t\t\tright = arr[mid:]\n",
    "\t\t\tmerge_sort(left)\n",
    "\t\t\tmerge_sort(right)\n",
    "\t\t\ti = j = k = 0\n",
    "\t\t\twhile i < len(left) and j < len(right):\n",
    "\t\t\t\tif left[i] < right[j]:\n",
    "\t\t\t\t\tarr[k] = left[i]\n",
    "\t\t\t\t\ti += 1\n",
    "\t\t\t\telse:\n",
    "\t\t\t\t\tarr[k] = right[j]\n",
    "\t\t\t\t\tj += 1\n",
    "\t\t\t\tk += 1\n",
    "\t\t\twhile i < len(left):\n",
    "\t\t\t\tarr[k] = left[i]\n",
    "\t\t\t\ti += 1\n",
    "\t\t\t\tk += 1\n",
    "\t\t\twhile j < len(right):\n",
    "\t\t\t\tarr[k] = right[j]\n",
    "\t\t\t\tj += 1\n",
    "\t\t\t\tk += 1\n",
    "\tsorted_arr = merge_sort([5, 4, 2, 1])\n",
    "\tprint(sorted_arr)\n",
    "\t# for i in sorted_arr:\n",
    "\t# \tfor j in sorted_arr:\n",
    "\t# \t\tif i + j == target:\n",
    "\t# \t\t\tmin_index = (sorted_arr.index(j),sorted_arr.index(i))\n",
    "\t# return min_index\n",
    "\n",
    "# arr = [5, 4, 2, 1]\n",
    "# result = search_matched_sum(arr, 3)\n",
    "# print(result) \n",
    "# (2, 3)"
   ]
  },
  {
   "cell_type": "code",
   "execution_count": 2,
   "metadata": {},
   "outputs": [
    {
     "name": "stdout",
     "output_type": "stream",
     "text": [
      "0.39806214700001874\n",
      "2.6 µs ± 251 ns per loop (mean ± std. dev. of 7 runs, 100,000 loops each)\n"
     ]
    }
   ],
   "source": [
    "import timeit\n",
    "code=\"\"\"\n",
    "def search_matched_sum(arr : list, target : int):\n",
    "\tfor i in arr:\n",
    "\t\tfor j in arr:\n",
    "\t\t\tif i + j == target:\n",
    "\t\t\t\tmin_index = (arr.index(j),arr.index(i))\n",
    "\treturn min_index\n",
    "\"\"\"\n",
    "\n",
    "#call the timeit() method 4 times\n",
    "print(timeit.timeit(stmt=code))\n",
    "\n",
    "\n",
    "def search_matched_sum(arr : list, target : int):\n",
    "\tfor i in arr:\n",
    "\t\tfor j in arr:\n",
    "\t\t\tif i + j == target:\n",
    "\t\t\t\tmin_index = (arr.index(j),arr.index(i))\n",
    "\treturn min_index\n",
    "\n",
    "%timeit search_matched_sum([5, 4, 2, 1], 3)"
   ]
  },
  {
   "cell_type": "code",
   "execution_count": 1,
   "metadata": {},
   "outputs": [
    {
     "name": "stdout",
     "output_type": "stream",
     "text": [
      "0.3395406810000168\n"
     ]
    },
    {
     "ename": "TypeError",
     "evalue": "'NoneType' object is not iterable",
     "output_type": "error",
     "traceback": [
      "\u001b[0;31m---------------------------------------------------------------------------\u001b[0m",
      "\u001b[0;31mTypeError\u001b[0m                                 Traceback (most recent call last)",
      "Cell \u001b[0;32mIn [1], line 48\u001b[0m\n\u001b[1;32m     45\u001b[0m \t\t\t\tmin_index \u001b[38;5;241m=\u001b[39m (sorted_arr\u001b[38;5;241m.\u001b[39mindex(j),sorted_arr\u001b[38;5;241m.\u001b[39mindex(i))\n\u001b[1;32m     46\u001b[0m \t\u001b[38;5;28;01mreturn\u001b[39;00m min_index\n\u001b[0;32m---> 48\u001b[0m \u001b[43mget_ipython\u001b[49m\u001b[43m(\u001b[49m\u001b[43m)\u001b[49m\u001b[38;5;241;43m.\u001b[39;49m\u001b[43mrun_line_magic\u001b[49m\u001b[43m(\u001b[49m\u001b[38;5;124;43m'\u001b[39;49m\u001b[38;5;124;43mtimeit\u001b[39;49m\u001b[38;5;124;43m'\u001b[39;49m\u001b[43m,\u001b[49m\u001b[43m \u001b[49m\u001b[38;5;124;43m'\u001b[39;49m\u001b[38;5;124;43msearch_matched_sum([5, 4, 2, 1], 3)\u001b[39;49m\u001b[38;5;124;43m'\u001b[39;49m\u001b[43m)\u001b[49m\n",
      "File \u001b[0;32m~/Library/Python/3.9/lib/python/site-packages/IPython/core/interactiveshell.py:2309\u001b[0m, in \u001b[0;36mInteractiveShell.run_line_magic\u001b[0;34m(self, magic_name, line, _stack_depth)\u001b[0m\n\u001b[1;32m   2307\u001b[0m     kwargs[\u001b[39m'\u001b[39m\u001b[39mlocal_ns\u001b[39m\u001b[39m'\u001b[39m] \u001b[39m=\u001b[39m \u001b[39mself\u001b[39m\u001b[39m.\u001b[39mget_local_scope(stack_depth)\n\u001b[1;32m   2308\u001b[0m \u001b[39mwith\u001b[39;00m \u001b[39mself\u001b[39m\u001b[39m.\u001b[39mbuiltin_trap:\n\u001b[0;32m-> 2309\u001b[0m     result \u001b[39m=\u001b[39m fn(\u001b[39m*\u001b[39;49margs, \u001b[39m*\u001b[39;49m\u001b[39m*\u001b[39;49mkwargs)\n\u001b[1;32m   2310\u001b[0m \u001b[39mreturn\u001b[39;00m result\n",
      "File \u001b[0;32m~/Library/Python/3.9/lib/python/site-packages/IPython/core/magics/execution.py:1162\u001b[0m, in \u001b[0;36mExecutionMagics.timeit\u001b[0;34m(self, line, cell, local_ns)\u001b[0m\n\u001b[1;32m   1160\u001b[0m \u001b[39mfor\u001b[39;00m index \u001b[39min\u001b[39;00m \u001b[39mrange\u001b[39m(\u001b[39m0\u001b[39m, \u001b[39m10\u001b[39m):\n\u001b[1;32m   1161\u001b[0m     number \u001b[39m=\u001b[39m \u001b[39m10\u001b[39m \u001b[39m*\u001b[39m\u001b[39m*\u001b[39m index\n\u001b[0;32m-> 1162\u001b[0m     time_number \u001b[39m=\u001b[39m timer\u001b[39m.\u001b[39;49mtimeit(number)\n\u001b[1;32m   1163\u001b[0m     \u001b[39mif\u001b[39;00m time_number \u001b[39m>\u001b[39m\u001b[39m=\u001b[39m \u001b[39m0.2\u001b[39m:\n\u001b[1;32m   1164\u001b[0m         \u001b[39mbreak\u001b[39;00m\n",
      "File \u001b[0;32m~/Library/Python/3.9/lib/python/site-packages/IPython/core/magics/execution.py:156\u001b[0m, in \u001b[0;36mTimer.timeit\u001b[0;34m(self, number)\u001b[0m\n\u001b[1;32m    154\u001b[0m gc\u001b[39m.\u001b[39mdisable()\n\u001b[1;32m    155\u001b[0m \u001b[39mtry\u001b[39;00m:\n\u001b[0;32m--> 156\u001b[0m     timing \u001b[39m=\u001b[39m \u001b[39mself\u001b[39;49m\u001b[39m.\u001b[39;49minner(it, \u001b[39mself\u001b[39;49m\u001b[39m.\u001b[39;49mtimer)\n\u001b[1;32m    157\u001b[0m \u001b[39mfinally\u001b[39;00m:\n\u001b[1;32m    158\u001b[0m     \u001b[39mif\u001b[39;00m gcold:\n",
      "File \u001b[0;32m<magic-timeit>:1\u001b[0m, in \u001b[0;36minner\u001b[0;34m(_it, _timer)\u001b[0m\n",
      "Cell \u001b[0;32mIn [1], line 42\u001b[0m, in \u001b[0;36msearch_matched_sum\u001b[0;34m(arr, target)\u001b[0m\n\u001b[1;32m     39\u001b[0m \t\t\tk \u001b[38;5;241m+\u001b[39m\u001b[38;5;241m=\u001b[39m \u001b[38;5;241m1\u001b[39m\n\u001b[1;32m     40\u001b[0m sorted_arr \u001b[38;5;241m=\u001b[39m merge_sort(arr)\n\u001b[0;32m---> 42\u001b[0m \u001b[38;5;28;01mfor\u001b[39;00m i \u001b[38;5;129;01min\u001b[39;00m sorted_arr:\n\u001b[1;32m     43\u001b[0m \t\u001b[38;5;28;01mfor\u001b[39;00m j \u001b[38;5;129;01min\u001b[39;00m sorted_arr:\n\u001b[1;32m     44\u001b[0m \t\t\u001b[38;5;28;01mif\u001b[39;00m i \u001b[38;5;241m+\u001b[39m j \u001b[38;5;241m==\u001b[39m target:\n",
      "\u001b[0;31mTypeError\u001b[0m: 'NoneType' object is not iterable"
     ]
    }
   ],
   "source": [
    "import timeit\n",
    "code=\"\"\"\n",
    "def search_matched_sum(arr : list, target : int):\n",
    "\tfor i in arr:\n",
    "\t\tfor j in arr:\n",
    "\t\t\tif i + j == target:\n",
    "\t\t\t\tmin_index = (arr.index(j),arr.index(i))\n",
    "\treturn min_index\n",
    "\"\"\"\n",
    "\n",
    "#call the timeit() method 4 times\n",
    "print(timeit.timeit(stmt=code))\n",
    "\n",
    "\n",
    "def search_matched_sum(arr : list, target : int):\n",
    "\tdef merge_sort(arr):\n",
    "\t\tif len(arr) >1:\n",
    "\t\t\tmid = len(arr)// 2\n",
    "\t\t\tleft = arr[:mid]\n",
    "\t\t\tright = arr[mid:]\n",
    "\t\t\tmerge_sort(left)\n",
    "\t\t\tmerge_sort(right)\n",
    "\t\t\ti = j = k = 0\n",
    "\t\t\twhile i < len(left) and j < len(right):\n",
    "\t\t\t\tif left[i] < right[j]:\n",
    "\t\t\t\t\tarr[k] = left[i]\n",
    "\t\t\t\t\ti += 1\n",
    "\t\t\t\telse:\n",
    "\t\t\t\t\tarr[k] = right[j]\n",
    "\t\t\t\t\tj += 1\n",
    "\t\t\t\tk += 1\n",
    "\t\t\twhile i < len(left):\n",
    "\t\t\t\tarr[k] = left[i]\n",
    "\t\t\t\ti += 1\n",
    "\t\t\t\tk += 1\n",
    "\t\t\twhile j < len(right):\n",
    "\t\t\t\tarr[k] = right[j]\n",
    "\t\t\t\tj += 1\n",
    "\t\t\t\tk += 1\n",
    "\tsorted_arr = merge_sort(arr)\n",
    "\t\n",
    "\tfor i in sorted_arr:\n",
    "\t\tfor j in sorted_arr:\n",
    "\t\t\tif i + j == target:\n",
    "\t\t\t\tmin_index = (sorted_arr.index(j),sorted_arr.index(i))\n",
    "\treturn min_index\n",
    "\n",
    "%timeit search_matched_sum([5, 4, 2, 1], 3)"
   ]
  },
  {
   "cell_type": "code",
   "execution_count": null,
   "metadata": {},
   "outputs": [
    {
     "data": {
      "text/plain": [
       "4"
      ]
     },
     "execution_count": 36,
     "metadata": {},
     "output_type": "execute_result"
    }
   ],
   "source": [
    "a = [0,1,2,3,4]\n",
    "mid = len(a)//2\n",
    "a[mid]\n",
    "a[-1]"
   ]
  }
 ],
 "metadata": {
  "kernelspec": {
   "display_name": "Python 3.9.6 64-bit",
   "language": "python",
   "name": "python3"
  },
  "language_info": {
   "codemirror_mode": {
    "name": "ipython",
    "version": 3
   },
   "file_extension": ".py",
   "mimetype": "text/x-python",
   "name": "python",
   "nbconvert_exporter": "python",
   "pygments_lexer": "ipython3",
   "version": "3.9.6"
  },
  "orig_nbformat": 4,
  "vscode": {
   "interpreter": {
    "hash": "31f2aee4e71d21fbe5cf8b01ff0e069b9275f58929596ceb00d14d90e3e16cd6"
   }
  }
 },
 "nbformat": 4,
 "nbformat_minor": 2
}
