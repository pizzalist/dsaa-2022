{
 "cells": [
  {
   "cell_type": "markdown",
   "metadata": {},
   "source": [
    "# Search matched sum report \n",
    "201912149 이노아\n",
    "```python\n",
    "#Base code\n",
    "def search_matched_sum(arr : list, target : int):\n",
    "\tmin_index = ()\n",
    "\tpass\t\n",
    "\treturn min_index\n",
    "\n",
    "arr = [5, 4, 2, 1]\n",
    "result = search_matched_sum(arr, 3)\n",
    "print(result) \n",
    "# (2, 3)\n",
    "```\n",
    "위와 같은 코드를 작성할때 time complexity가 n^2이 되려면 우선, for 문을 두번 돌리는 코드를 작성하면 될 것 같다.\n",
    "그리고 time complexity가 n log(n)이 되게 하려면 for 문 한번에 수업 시간때 배운 binary_search_recursive을 사용하여 코드를 작성 하면 될 것 같다. 이유는 binary_search의 알고리즘은 log(n)의 time complexity를 가지기 때문에 n log(n)의 코드를 만들 수 있을 거라 생각했기 때문이다. 정리 해보면\n",
    "> 가설 1: time complexity 가 n^2이 되려면 이중 for문을 사용하는 코드를 작성하면 될 것이고, n log(n)이 되려면 timecomplexity가 log(n)인 binary_search_recursive를 for문에 돌려 n log(n)이 나오도록 하면 될 것이다. 그리고 이 두 코드의 time 속도를 비교 했을때 당연히 n log(n)의 코드가 더 빠를 것이다.\n",
    "\n",
    "그리고 주어진 arr는 oredered 냐 아니냐에 따라 다양한 time compleixity가 나온다. 가설 1에서의 첫번째 코드는 이중 for 문으로 arr의 정렬 여부는 관계가 없을 것으로 예상된다. 하지만 binary_search는 필수적으로 arr가 정렬이 되어 있어야만 실행이 되는 알고리즘이다. 따라서 반드시 정렬을 해주는 sort 알고리즘을 추가해 주어야 하며, 이때 sort 알고리즘은 n log(n)의 timecomplexity를 가진 merge_sort가 조건을 만족 시켜줄 것 같다. 이렇게 되면 이 코드에서 정렬이 이미 된 arr를 실행 시켰을때의 time complexity가 정렬이 안 된, 순서가 섞인 arr를 실행 시켰을때 보다 더 속도가 빠를 것으로 예상된다.\n",
    "정리하면 \n",
    "> 가설 2:\n",
    "> * n^2의 코드일때 : 배열의 정렬 여부와 time complexity 속도는 상관관계가 없을 것이다.\n",
    "> * n log(n)의 코드일때 : 정렬이 된 배열을 코드에 입력했을때가 정렬이 되지 않은 배열을 코드에 입력했을때 보다 time complexity 속도가 빠를 것이다."
   ]
  },
  {
   "cell_type": "markdown",
   "metadata": {},
   "source": [
    "우선 가설대로 n^2일때의 코드를 작성해보면 아래의 코드와 같이 나온다."
   ]
  },
  {
   "cell_type": "code",
   "execution_count": 5,
   "metadata": {},
   "outputs": [
    {
     "name": "stdout",
     "output_type": "stream",
     "text": [
      "(1, 0)\n"
     ]
    }
   ],
   "source": [
    "def search_matched_sum(arr : list, target : int):\n",
    "\tfor i, i_num in enumerate(arr):     #n\n",
    "\t\tfor j, j_num in enumerate(arr): #n\n",
    "\t\t\tif i_num + j_num == target: #1\n",
    "\t\t\t\tmin_index = (i,j)       #1\n",
    "\treturn min_index\n",
    "\n",
    "arr = [1, 2, 3, 4]\n",
    "result = search_matched_sum(arr, 3)\n",
    "print(result) \n"
   ]
  },
  {
   "cell_type": "markdown",
   "metadata": {},
   "source": [
    "이때의 timecomplexity Big-O는 주석에 적힌대로 n^2을 가지게 된다.<br>\n",
    "다음으로 n log(n)의 코드를 작성해보면 "
   ]
  },
  {
   "cell_type": "code",
   "execution_count": 6,
   "metadata": {},
   "outputs": [
    {
     "name": "stdout",
     "output_type": "stream",
     "text": [
      "(0, 1)\n"
     ]
    }
   ],
   "source": [
    "def merge_sort(sorted_arr):\n",
    "\tif len(sorted_arr) >1:\n",
    "\t\tmid = len(sorted_arr)// 2\n",
    "\t\tleft = sorted_arr[:mid]\n",
    "\t\tright = sorted_arr[mid:]\n",
    "\t\tmerge_sort(left)\n",
    "\t\tmerge_sort(right)\n",
    "\t\ti = j = k = 0\n",
    "\t\twhile i < len(left) and j < len(right):\n",
    "\t\t\tif left[i] < right[j]:\n",
    "\t\t\t\tsorted_arr[k] = left[i]\n",
    "\t\t\t\ti += 1\n",
    "\t\t\telse:\n",
    "\t\t\t\tsorted_arr[k] = right[j]\n",
    "\t\t\t\tj += 1\n",
    "\t\t\tk += 1\n",
    "\t\twhile i < len(left):\n",
    "\t\t\tsorted_arr[k] = left[i]\n",
    "\t\t\ti += 1\n",
    "\t\t\tk += 1\n",
    "\t\twhile j < len(right):\n",
    "\t\t\tsorted_arr[k] = right[j]\n",
    "\t\t\tj += 1\n",
    "\t\t\tk += 1\n",
    "\treturn sorted_arr\n",
    "\t\n",
    "\t\n",
    "def binary_search_recursive(array, element, start, end):\n",
    "\tif start > end:\n",
    "\t\treturn -1\n",
    "\t\n",
    "\tmid = (start + end) // 2\n",
    "\n",
    "\tif element == array[mid]:\n",
    "\t\treturn mid\n",
    "\n",
    "\tif element < array[mid]:\n",
    "\t\treturn binary_search_recursive(array, element, start, mid-1)\n",
    "\telse:\n",
    "\t\treturn binary_search_recursive(array, element, mid+1, end)\n",
    "\n",
    "\n",
    "def search_matched_sum(array : list, target : int):\n",
    "\tarray = merge_sort(arr) #nlogn\n",
    "\tfor i, i_num in enumerate(array): # n\n",
    "\t\ti_other_num = binary_search_recursive(array, target-i_num, 0, len(array)-1) # logn\n",
    "\t\tif i_other_num != -1 :\n",
    "\t\t\tmin_index = (i,i_other_num)\n",
    "\t\treturn min_index\n",
    "arr = [1, 2, 3, 4]\n",
    "result = search_matched_sum(arr, 3)\n",
    "print(result) \n"
   ]
  },
  {
   "cell_type": "markdown",
   "metadata": {},
   "source": [
    "위와 같은 코드를 작성할 수 있고, 주석에 적힌대로 merge_sort의 nlogn과 for문 안에 binary_search를 가진 n log(n)의 time complexity를 가지게 된다. 따라서 이 코드의 Big-O는 n log(n)을 가지게 된다. <br>\n",
    "위 두 코드를 코드 안 배열 조건이 동일한 [5, 4, 2, 1]로 실행시키고 그 속도를 측정 해보자."
   ]
  },
  {
   "cell_type": "code",
   "execution_count": 25,
   "metadata": {},
   "outputs": [
    {
     "name": "stdout",
     "output_type": "stream",
     "text": [
      "1.75 µs ± 40.5 ns per loop (mean ± std. dev. of 7 runs, 1,000,000 loops each)\n"
     ]
    }
   ],
   "source": [
    "import timeit\n",
    "\n",
    "def search_matched_sum(arr : list, target : int):\n",
    "\tfor i, i_num in enumerate(arr):     #n\n",
    "\t\tfor j, j_num in enumerate(arr): #n\n",
    "\t\t\tif i_num + j_num == target: #1\n",
    "\t\t\t\tmin_index = (i,j)       #1\n",
    "\treturn min_index\n",
    "\n",
    "arr = [1, 2, 3, 4]\n",
    "\n",
    "%timeit search_matched_sum(arr, 3)"
   ]
  },
  {
   "cell_type": "code",
   "execution_count": 27,
   "metadata": {},
   "outputs": [
    {
     "name": "stdout",
     "output_type": "stream",
     "text": [
      "3.63 µs ± 17.2 ns per loop (mean ± std. dev. of 7 runs, 100,000 loops each)\n"
     ]
    }
   ],
   "source": [
    "import timeit\n",
    "\n",
    "def merge_sort(sorted_arr):\n",
    "\tif len(sorted_arr) >1:\n",
    "\t\tmid = len(sorted_arr)// 2\n",
    "\t\tleft = sorted_arr[:mid]\n",
    "\t\tright = sorted_arr[mid:]\n",
    "\t\tmerge_sort(left)\n",
    "\t\tmerge_sort(right)\n",
    "\t\ti = j = k = 0\n",
    "\t\twhile i < len(left) and j < len(right):\n",
    "\t\t\tif left[i] < right[j]:\n",
    "\t\t\t\tsorted_arr[k] = left[i]\n",
    "\t\t\t\ti += 1\n",
    "\t\t\telse:\n",
    "\t\t\t\tsorted_arr[k] = right[j]\n",
    "\t\t\t\tj += 1\n",
    "\t\t\tk += 1\n",
    "\t\twhile i < len(left):\n",
    "\t\t\tsorted_arr[k] = left[i]\n",
    "\t\t\ti += 1\n",
    "\t\t\tk += 1\n",
    "\t\twhile j < len(right):\n",
    "\t\t\tsorted_arr[k] = right[j]\n",
    "\t\t\tj += 1\n",
    "\t\t\tk += 1\n",
    "\treturn sorted_arr\n",
    "\t\n",
    "\t\n",
    "def binary_search_recursive(array, element, start, end):\n",
    "\tif start > end:\n",
    "\t\treturn -1\n",
    "\t\n",
    "\tmid = (start + end) // 2\n",
    "\n",
    "\tif element == array[mid]:\n",
    "\t\treturn mid\n",
    "\n",
    "\tif element < array[mid]:\n",
    "\t\treturn binary_search_recursive(array, element, start, mid-1)\n",
    "\telse:\n",
    "\t\treturn binary_search_recursive(array, element, mid+1, end)\n",
    "\n",
    "\n",
    "def search_matched_sum(array : list, target : int):\n",
    "\tarray = merge_sort(arr) #nlogn\n",
    "\tfor i, i_num in enumerate(array): # n\n",
    "\t\ti_other_num = binary_search_recursive(array, target-i_num, 0, len(array)-1) # logn\n",
    "\t\tif i_other_num != -1 :\n",
    "\t\t\tmin_index = (i,i_other_num)\n",
    "\t\treturn min_index\n",
    "arr = [1, 2, 3, 4]\n",
    "\n",
    "\n",
    "%timeit search_matched_sum(arr, 3)"
   ]
  },
  {
   "cell_type": "markdown",
   "metadata": {},
   "source": [
    "위 두 time 속도에서 확인할 수 있듯이 두 time 속도는 큰 차이가 없다. 이유는 배열의 크기가 작다고 판단되어 리스트안의 숫자를 100개로 늘려서 다시 실험을 통해 속도 비교를 해보고자 한다."
   ]
  },
  {
   "cell_type": "code",
   "execution_count": 28,
   "metadata": {},
   "outputs": [
    {
     "name": "stdout",
     "output_type": "stream",
     "text": [
      "491 µs ± 18 µs per loop (mean ± std. dev. of 7 runs, 1,000 loops each)\n"
     ]
    }
   ],
   "source": [
    "import timeit\n",
    "\n",
    "def search_matched_sum(arr : list, target : int):\n",
    "\tfor i, i_num in enumerate(arr):     #n\n",
    "\t\tfor j, j_num in enumerate(arr): #n\n",
    "\t\t\tif i_num + j_num == target: #1\n",
    "\t\t\t\tmin_index = (i,j)       #1\n",
    "\treturn min_index\n",
    "\n",
    "arr = []\n",
    "for number in range(100):\n",
    "    arr.append(number)\n",
    "\n",
    "%timeit search_matched_sum(arr, 3)"
   ]
  },
  {
   "cell_type": "code",
   "execution_count": 29,
   "metadata": {},
   "outputs": [
    {
     "name": "stdout",
     "output_type": "stream",
     "text": [
      "171 µs ± 8.02 µs per loop (mean ± std. dev. of 7 runs, 10,000 loops each)\n"
     ]
    }
   ],
   "source": [
    "import timeit\n",
    "\n",
    "\n",
    "def merge_sort(sorted_arr):\n",
    "\tif len(sorted_arr) >1:\n",
    "\t\tmid = len(sorted_arr)// 2\n",
    "\t\tleft = sorted_arr[:mid]\n",
    "\t\tright = sorted_arr[mid:]\n",
    "\t\tmerge_sort(left)\n",
    "\t\tmerge_sort(right)\n",
    "\t\ti = j = k = 0\n",
    "\t\twhile i < len(left) and j < len(right):\n",
    "\t\t\tif left[i] < right[j]:\n",
    "\t\t\t\tsorted_arr[k] = left[i]\n",
    "\t\t\t\ti += 1\n",
    "\t\t\telse:\n",
    "\t\t\t\tsorted_arr[k] = right[j]\n",
    "\t\t\t\tj += 1\n",
    "\t\t\tk += 1\n",
    "\t\twhile i < len(left):\n",
    "\t\t\tsorted_arr[k] = left[i]\n",
    "\t\t\ti += 1\n",
    "\t\t\tk += 1\n",
    "\t\twhile j < len(right):\n",
    "\t\t\tsorted_arr[k] = right[j]\n",
    "\t\t\tj += 1\n",
    "\t\t\tk += 1\n",
    "\treturn sorted_arr\n",
    "\t\n",
    "\t\n",
    "def binary_search_recursive(array, element, start, end):\n",
    "\tif start > end:\n",
    "\t\treturn -1\n",
    "\t\n",
    "\tmid = (start + end) // 2\n",
    "\n",
    "\tif element == array[mid]:\n",
    "\t\treturn mid\n",
    "\n",
    "\tif element < array[mid]:\n",
    "\t\treturn binary_search_recursive(array, element, start, mid-1)\n",
    "\telse:\n",
    "\t\treturn binary_search_recursive(array, element, mid+1, end)\n",
    "\n",
    "\n",
    "def search_matched_sum(array : list, target : int):\n",
    "\tarray = merge_sort(arr) #nlogn\n",
    "\tfor i, i_num in enumerate(array): # n\n",
    "\t\ti_other_num = binary_search_recursive(array, target-i_num, 0, len(array)-1) # logn\n",
    "\t\tif i_other_num != -1 :\n",
    "\t\t\tmin_index = (i,i_other_num)\n",
    "\t\treturn min_index\n",
    "arr = []\n",
    "for number in range(100):\n",
    "    arr.append(number)\n",
    "\n",
    "\n",
    "%timeit search_matched_sum(arr, 3)"
   ]
  },
  {
   "cell_type": "markdown",
   "metadata": {},
   "source": [
    "리스트의 숫자를 100개로 만들어주니 time 속도의 평균이 점점 차이 나기 시작했다. 가설과 동일하게 n log(n)코드의 time 속도가 더 빠른 것을 볼 수 있다.<br>\n",
    "더 확실하게 하기 위해 숫자를 10000개로 늘려보겠다. "
   ]
  },
  {
   "cell_type": "code",
   "execution_count": 34,
   "metadata": {},
   "outputs": [
    {
     "name": "stdout",
     "output_type": "stream",
     "text": [
      "6.87 s ± 91.5 ms per loop (mean ± std. dev. of 7 runs, 1 loop each)\n"
     ]
    }
   ],
   "source": [
    "import timeit\n",
    "\n",
    "def search_matched_sum(arr : list, target : int):\n",
    "\tfor i, i_num in enumerate(arr):     #n\n",
    "\t\tfor j, j_num in enumerate(arr): #n\n",
    "\t\t\tif i_num + j_num == target: #1\n",
    "\t\t\t\tmin_index = (i,j)       #1\n",
    "\treturn min_index\n",
    "\n",
    "arr = []\n",
    "for number in range(10000):\n",
    "    arr.append(number)\n",
    "\n",
    "%timeit search_matched_sum(arr, 123)"
   ]
  },
  {
   "cell_type": "code",
   "execution_count": 33,
   "metadata": {},
   "outputs": [
    {
     "name": "stdout",
     "output_type": "stream",
     "text": [
      "29.7 ms ± 1.17 ms per loop (mean ± std. dev. of 7 runs, 10 loops each)\n"
     ]
    }
   ],
   "source": [
    "import timeit\n",
    "\n",
    "\n",
    "def merge_sort(sorted_arr):\n",
    "\tif len(sorted_arr) >1:\n",
    "\t\tmid = len(sorted_arr)// 2\n",
    "\t\tleft = sorted_arr[:mid]\n",
    "\t\tright = sorted_arr[mid:]\n",
    "\t\tmerge_sort(left)\n",
    "\t\tmerge_sort(right)\n",
    "\t\ti = j = k = 0\n",
    "\t\twhile i < len(left) and j < len(right):\n",
    "\t\t\tif left[i] < right[j]:\n",
    "\t\t\t\tsorted_arr[k] = left[i]\n",
    "\t\t\t\ti += 1\n",
    "\t\t\telse:\n",
    "\t\t\t\tsorted_arr[k] = right[j]\n",
    "\t\t\t\tj += 1\n",
    "\t\t\tk += 1\n",
    "\t\twhile i < len(left):\n",
    "\t\t\tsorted_arr[k] = left[i]\n",
    "\t\t\ti += 1\n",
    "\t\t\tk += 1\n",
    "\t\twhile j < len(right):\n",
    "\t\t\tsorted_arr[k] = right[j]\n",
    "\t\t\tj += 1\n",
    "\t\t\tk += 1\n",
    "\treturn sorted_arr\n",
    "\t\n",
    "\t\n",
    "def binary_search_recursive(array, element, start, end):\n",
    "\tif start > end:\n",
    "\t\treturn -1\n",
    "\t\n",
    "\tmid = (start + end) // 2\n",
    "\n",
    "\tif element == array[mid]:\n",
    "\t\treturn mid\n",
    "\n",
    "\tif element < array[mid]:\n",
    "\t\treturn binary_search_recursive(array, element, start, mid-1)\n",
    "\telse:\n",
    "\t\treturn binary_search_recursive(array, element, mid+1, end)\n",
    "\n",
    "\n",
    "def search_matched_sum(array : list, target : int):\n",
    "\tarray = merge_sort(arr) #nlogn\n",
    "\tfor i, i_num in enumerate(array): # n\n",
    "\t\ti_other_num = binary_search_recursive(array, target-i_num, 0, len(array)-1) # logn\n",
    "\t\tif i_other_num != -1 :\n",
    "\t\t\tmin_index = (i,i_other_num)\n",
    "\t\treturn min_index\n",
    "arr = []\n",
    "for number in range(10000):\n",
    "    arr.append(number)\n",
    "\n",
    "\n",
    "%timeit search_matched_sum(arr, 123)"
   ]
  },
  {
   "cell_type": "markdown",
   "metadata": {},
   "source": [
    "단위가 바뀐것을 보아 차이가 많이 나는 것을 확인할 수 있다. 성능 차이가 나는 이유는 앞에서 언급했듯, 첫번째 코드는 time complexity가 n^2이고 두번째는 n log(n)이 되기 때문에 n log(n)을 가진 두번째 코드가 더 time 속도가 빠를것이기 때문이다. 그러므로 가설 1 'time complexity 가 n^2이 되려면 이중 for문을 사용하는 코드를 작성하면 될 것이고, n log(n)이 되려면 timecomplexity가 log(n)인 binary_search_recursive를 for문에 돌려 n log(n)이 나오도록 하면 될 것이다. 그리고 이 두 코드의 time 속도를 비교 했을때 당연히 n log(n)의 코드가 더 빠를 것이다.' 은 사실이다. <br>\n",
    "추가적으로 ,방금의 경우의 arr의 리스트 값들은 정렬되어 있는 리스트였는데, 이번에는 정렬되지 않은 리스트의 값들을 두 코드에 입력하여 비교해보자."
   ]
  },
  {
   "cell_type": "code",
   "execution_count": 35,
   "metadata": {},
   "outputs": [
    {
     "name": "stdout",
     "output_type": "stream",
     "text": [
      "66 ms ± 1.43 ms per loop (mean ± std. dev. of 7 runs, 10 loops each)\n"
     ]
    }
   ],
   "source": [
    "import timeit\n",
    "from random import randint\n",
    "\n",
    "\n",
    "def search_matched_sum(arr : list, target : int):\n",
    "\tfor i, i_num in enumerate(arr):     #n\n",
    "\t\tfor j, j_num in enumerate(arr): #n\n",
    "\t\t\tif i_num + j_num == target: #1\n",
    "\t\t\t\tmin_index = (i,j)       #1\n",
    "\treturn min_index\n",
    "\n",
    "arr = []\n",
    "for _ in range(1000):\n",
    "    arr.append(randint(1,1000))\n",
    "\n",
    "%timeit search_matched_sum(arr, 123)"
   ]
  },
  {
   "cell_type": "code",
   "execution_count": 36,
   "metadata": {},
   "outputs": [
    {
     "name": "stdout",
     "output_type": "stream",
     "text": [
      "66 ms ± 812 µs per loop (mean ± std. dev. of 7 runs, 10 loops each)\n"
     ]
    }
   ],
   "source": [
    "import timeit\n",
    "from random import randint\n",
    "\n",
    "\n",
    "def search_matched_sum(arr : list, target : int):\n",
    "\tfor i, i_num in enumerate(arr):     #n\n",
    "\t\tfor j, j_num in enumerate(arr): #n\n",
    "\t\t\tif i_num + j_num == target: #1\n",
    "\t\t\t\tmin_index = (i,j)       #1\n",
    "\treturn min_index\n",
    "\n",
    "arr = []\n",
    "for _ in range(1000):\n",
    "    arr.append(_)\n",
    "\n",
    "%timeit search_matched_sum(arr, 123)"
   ]
  },
  {
   "cell_type": "markdown",
   "metadata": {},
   "source": [
    "첫번째 코드의 경우에는 속도 차이가 크게 나지 않는다. <br>\n",
    "위 코드는 정렬과는 상관없이 모두 for문이 두번 돌아가기 때문이다.<br><br>\n",
    "다음은 두번째 코드에 값들을 측정해보았다. "
   ]
  },
  {
   "cell_type": "code",
   "execution_count": 49,
   "metadata": {},
   "outputs": [
    {
     "name": "stdout",
     "output_type": "stream",
     "text": [
      "2.44 ms ± 180 µs per loop (mean ± std. dev. of 7 runs, 100 loops each)\n"
     ]
    }
   ],
   "source": [
    "import timeit\n",
    "\n",
    "\n",
    "def merge_sort(sorted_arr):\n",
    "\tif len(sorted_arr) >1:\n",
    "\t\tmid = len(sorted_arr)// 2\n",
    "\t\tleft = sorted_arr[:mid]\n",
    "\t\tright = sorted_arr[mid:]\n",
    "\t\tmerge_sort(left)\n",
    "\t\tmerge_sort(right)\n",
    "\t\ti = j = k = 0\n",
    "\t\twhile i < len(left) and j < len(right):\n",
    "\t\t\tif left[i] < right[j]:\n",
    "\t\t\t\tsorted_arr[k] = left[i]\n",
    "\t\t\t\ti += 1\n",
    "\t\t\telse:\n",
    "\t\t\t\tsorted_arr[k] = right[j]\n",
    "\t\t\t\tj += 1\n",
    "\t\t\tk += 1\n",
    "\t\twhile i < len(left):\n",
    "\t\t\tsorted_arr[k] = left[i]\n",
    "\t\t\ti += 1\n",
    "\t\t\tk += 1\n",
    "\t\twhile j < len(right):\n",
    "\t\t\tsorted_arr[k] = right[j]\n",
    "\t\t\tj += 1\n",
    "\t\t\tk += 1\n",
    "\treturn sorted_arr\n",
    "\t\n",
    "\t\n",
    "def binary_search_recursive(array, element, start, end):\n",
    "\tif start > end:\n",
    "\t\treturn -1\n",
    "\t\n",
    "\tmid = (start + end) // 2\n",
    "\n",
    "\tif element == array[mid]:\n",
    "\t\treturn mid\n",
    "\n",
    "\tif element < array[mid]:\n",
    "\t\treturn binary_search_recursive(array, element, start, mid-1)\n",
    "\telse:\n",
    "\t\treturn binary_search_recursive(array, element, mid+1, end)\n",
    "\n",
    "\n",
    "def search_matched_sum(array : list, target : int):\n",
    "\tarray = merge_sort(arr) #nlogn\n",
    "\tfor i, i_num in enumerate(array): # n\n",
    "\t\ti_other_num = binary_search_recursive(array, target-i_num, 0, len(array)-1) # logn\n",
    "\t\tif i_other_num != -1 :\n",
    "\t\t\tmin_index = (i,i_other_num)\n",
    "\t\treturn min_index\n",
    "arr = []\n",
    "for _ in range(1000):\n",
    "    arr.append(randint(1,1000))\n",
    "\n",
    "\n",
    "%timeit search_matched_sum(arr, 123)"
   ]
  },
  {
   "cell_type": "code",
   "execution_count": 57,
   "metadata": {},
   "outputs": [
    {
     "name": "stdout",
     "output_type": "stream",
     "text": [
      "2.24 ms ± 60.6 µs per loop (mean ± std. dev. of 7 runs, 100 loops each)\n"
     ]
    }
   ],
   "source": [
    "import timeit\n",
    "\n",
    "\n",
    "def merge_sort(sorted_arr):\n",
    "\tif len(sorted_arr) >1:\n",
    "\t\tmid = len(sorted_arr)// 2\n",
    "\t\tleft = sorted_arr[:mid]\n",
    "\t\tright = sorted_arr[mid:]\n",
    "\t\tmerge_sort(left)\n",
    "\t\tmerge_sort(right)\n",
    "\t\ti = j = k = 0\n",
    "\t\twhile i < len(left) and j < len(right):\n",
    "\t\t\tif left[i] < right[j]:\n",
    "\t\t\t\tsorted_arr[k] = left[i]\n",
    "\t\t\t\ti += 1\n",
    "\t\t\telse:\n",
    "\t\t\t\tsorted_arr[k] = right[j]\n",
    "\t\t\t\tj += 1\n",
    "\t\t\tk += 1\n",
    "\t\twhile i < len(left):\n",
    "\t\t\tsorted_arr[k] = left[i]\n",
    "\t\t\ti += 1\n",
    "\t\t\tk += 1\n",
    "\t\twhile j < len(right):\n",
    "\t\t\tsorted_arr[k] = right[j]\n",
    "\t\t\tj += 1\n",
    "\t\t\tk += 1\n",
    "\treturn sorted_arr\n",
    "\t\n",
    "\t\n",
    "def binary_search_recursive(array, element, start, end):\n",
    "\tif start > end:\n",
    "\t\treturn -1\n",
    "\t\n",
    "\tmid = (start + end) // 2\n",
    "\n",
    "\tif element == array[mid]:\n",
    "\t\treturn mid\n",
    "\n",
    "\tif element < array[mid]:\n",
    "\t\treturn binary_search_recursive(array, element, start, mid-1)\n",
    "\telse:\n",
    "\t\treturn binary_search_recursive(array, element, mid+1, end)\n",
    "\n",
    "\n",
    "def search_matched_sum(array : list, target : int):\n",
    "\tarray = merge_sort(arr) #nlogn\n",
    "\tfor i, i_num in enumerate(array): # n\n",
    "\t\ti_other_num = binary_search_recursive(array, target-i_num, 0, len(array)-1) # logn\n",
    "\t\tif i_other_num != -1 :\n",
    "\t\t\tmin_index = (i,i_other_num)\n",
    "\t\treturn min_index\n",
    "arr = []\n",
    "for _ in range(1000):\n",
    "    arr.append(_)\n",
    "\n",
    "\n",
    "%timeit search_matched_sum(arr, 123)"
   ]
  },
  {
   "cell_type": "markdown",
   "metadata": {},
   "source": [
    "정렬되어진 배열을 넣었을때의 코드가 조금 더 빠르지만 수치상으로는 큰 차이는 없어 보인다. 리스트 숫자의 갯수를 더 늘리면 조금 차이가 날 것 같다. "
   ]
  },
  {
   "cell_type": "code",
   "execution_count": 71,
   "metadata": {},
   "outputs": [
    {
     "name": "stdout",
     "output_type": "stream",
     "text": [
      "381 ms ± 3.64 ms per loop (mean ± std. dev. of 7 runs, 1 loop each)\n"
     ]
    }
   ],
   "source": [
    "import timeit\n",
    "\n",
    "\n",
    "def merge_sort(sorted_arr):\n",
    "\tif len(sorted_arr) >1:\n",
    "\t\tmid = len(sorted_arr)// 2\n",
    "\t\tleft = sorted_arr[:mid]\n",
    "\t\tright = sorted_arr[mid:]\n",
    "\t\tmerge_sort(left)\n",
    "\t\tmerge_sort(right)\n",
    "\t\ti = j = k = 0\n",
    "\t\twhile i < len(left) and j < len(right):\n",
    "\t\t\tif left[i] < right[j]:\n",
    "\t\t\t\tsorted_arr[k] = left[i]\n",
    "\t\t\t\ti += 1\n",
    "\t\t\telse:\n",
    "\t\t\t\tsorted_arr[k] = right[j]\n",
    "\t\t\t\tj += 1\n",
    "\t\t\tk += 1\n",
    "\t\twhile i < len(left):\n",
    "\t\t\tsorted_arr[k] = left[i]\n",
    "\t\t\ti += 1\n",
    "\t\t\tk += 1\n",
    "\t\twhile j < len(right):\n",
    "\t\t\tsorted_arr[k] = right[j]\n",
    "\t\t\tj += 1\n",
    "\t\t\tk += 1\n",
    "\treturn sorted_arr\n",
    "\t\n",
    "\t\n",
    "def binary_search_recursive(array, element, start, end):\n",
    "\tif start > end:\n",
    "\t\treturn -1\n",
    "\t\n",
    "\tmid = (start + end) // 2\n",
    "\n",
    "\tif element == array[mid]:\n",
    "\t\treturn mid\n",
    "\n",
    "\tif element < array[mid]:\n",
    "\t\treturn binary_search_recursive(array, element, start, mid-1)\n",
    "\telse:\n",
    "\t\treturn binary_search_recursive(array, element, mid+1, end)\n",
    "\n",
    "\n",
    "def search_matched_sum(array : list, target : int):\n",
    "\tarray = merge_sort(arr) #nlogn\n",
    "\tfor i, i_num in enumerate(array): # n\n",
    "\t\ti_other_num = binary_search_recursive(array, target-i_num, 0, len(array)-1) # logn\n",
    "\t\tif i_other_num != -1 :\n",
    "\t\t\tmin_index = (i,i_other_num)\n",
    "\t\treturn min_index\n",
    "arr = []\n",
    "for _ in range(100000):\n",
    "    arr.append(randint(1,100000))\n",
    "\n",
    "\n",
    "%timeit search_matched_sum(arr, 7777)"
   ]
  },
  {
   "cell_type": "code",
   "execution_count": 73,
   "metadata": {},
   "outputs": [
    {
     "name": "stdout",
     "output_type": "stream",
     "text": [
      "363 ms ± 18.7 ms per loop (mean ± std. dev. of 7 runs, 1 loop each)\n"
     ]
    }
   ],
   "source": [
    "import timeit\n",
    "\n",
    "\n",
    "def merge_sort(sorted_arr):\n",
    "\tif len(sorted_arr) >1:\n",
    "\t\tmid = len(sorted_arr)// 2\n",
    "\t\tleft = sorted_arr[:mid]\n",
    "\t\tright = sorted_arr[mid:]\n",
    "\t\tmerge_sort(left)\n",
    "\t\tmerge_sort(right)\n",
    "\t\ti = j = k = 0\n",
    "\t\twhile i < len(left) and j < len(right):\n",
    "\t\t\tif left[i] < right[j]:\n",
    "\t\t\t\tsorted_arr[k] = left[i]\n",
    "\t\t\t\ti += 1\n",
    "\t\t\telse:\n",
    "\t\t\t\tsorted_arr[k] = right[j]\n",
    "\t\t\t\tj += 1\n",
    "\t\t\tk += 1\n",
    "\t\twhile i < len(left):\n",
    "\t\t\tsorted_arr[k] = left[i]\n",
    "\t\t\ti += 1\n",
    "\t\t\tk += 1\n",
    "\t\twhile j < len(right):\n",
    "\t\t\tsorted_arr[k] = right[j]\n",
    "\t\t\tj += 1\n",
    "\t\t\tk += 1\n",
    "\treturn sorted_arr\n",
    "\t\n",
    "\t\n",
    "def binary_search_recursive(array, element, start, end):\n",
    "\tif start > end:\n",
    "\t\treturn -1\n",
    "\t\n",
    "\tmid = (start + end) // 2\n",
    "\n",
    "\tif element == array[mid]:\n",
    "\t\treturn mid\n",
    "\n",
    "\tif element < array[mid]:\n",
    "\t\treturn binary_search_recursive(array, element, start, mid-1)\n",
    "\telse:\n",
    "\t\treturn binary_search_recursive(array, element, mid+1, end)\n",
    "\n",
    "\n",
    "def search_matched_sum(array : list, target : int):\n",
    "\tarray = merge_sort(arr) #nlogn\n",
    "\tfor i, i_num in enumerate(array): # n\n",
    "\t\ti_other_num = binary_search_recursive(array, target-i_num, 0, len(array)-1) # logn\n",
    "\t\tif i_other_num != -1 :\n",
    "\t\t\tmin_index = (i,i_other_num)\n",
    "\t\treturn min_index\n",
    "arr = []\n",
    "for _ in range(100000):\n",
    "    arr.append(_)\n",
    "\n",
    "\n",
    "%timeit search_matched_sum(arr, 7777)"
   ]
  },
  {
   "cell_type": "markdown",
   "metadata": {},
   "source": [
    "정렬 되어진 배열을 넣은 코드가 더 빠른 것을 볼 수 있다. 하지만 근소한 차이이다.<br>\n",
    "두번째 코드에서는 binary_search를 사용할때 정렬된 배열을 요구한다. 그렇기 때문에 mearge_sort라는 함수를 통해 배열을 정렬해주는 과정을 거친다. \n",
    "하지만 이미 정렬되어진 배열을 넣게 되면 이 함수는 필요없게 된다. 따라서 merge_sort 함수를 제거하고 다시 시간 측정을 해보았다."
   ]
  },
  {
   "cell_type": "code",
   "execution_count": 56,
   "metadata": {},
   "outputs": [
    {
     "name": "stdout",
     "output_type": "stream",
     "text": [
      "2.77 µs ± 156 ns per loop (mean ± std. dev. of 7 runs, 100,000 loops each)\n"
     ]
    }
   ],
   "source": [
    "import timeit\n",
    "\n",
    "\n",
    "def binary_search_recursive(array, element, start, end):\n",
    "\tif start > end:\n",
    "\t\treturn -1\n",
    "\t\n",
    "\tmid = (start + end) // 2\n",
    "\n",
    "\tif element == array[mid]:\n",
    "\t\treturn mid\n",
    "\n",
    "\tif element < array[mid]:\n",
    "\t\treturn binary_search_recursive(array, element, start, mid-1)\n",
    "\telse:\n",
    "\t\treturn binary_search_recursive(array, element, mid+1, end)\n",
    "\n",
    "\n",
    "def search_matched_sum(array : list, target : int):\n",
    "\t\n",
    "\tfor i, i_num in enumerate(array): # n\n",
    "\t\ti_other_num = binary_search_recursive(array, target-i_num, 0, len(array)-1) # logn\n",
    "\t\tif i_other_num != -1 :\n",
    "\t\t\tmin_index = (i,i_other_num)\n",
    "\t\treturn min_index\n",
    "arr = []\n",
    "for _ in range(1000):\n",
    "    arr.append(_)\n",
    "\n",
    "\n",
    "%timeit search_matched_sum(arr, 123)"
   ]
  },
  {
   "cell_type": "markdown",
   "metadata": {},
   "source": [
    "예상대로 정렬되어진 배열을 넣었을때 더 빠른 time 속도를 보여주고 있다."
   ]
  },
  {
   "cell_type": "markdown",
   "metadata": {},
   "source": [
    "가설 2\n",
    " * n^2의 코드일때 : 배열의 정렬 여부와 time complexity 속도는 상관관계가 없을 것이다.\n",
    " * n log(n)의 코드일때 : 정렬이 된 배열을 코드에 입력했을때가 정렬이 되지 않은 배열을 코드에 입력했을때 보다 time complexity 속도가 빠를 것이다.\n",
    "\n",
    "따라서 위 가설 2 또한 사실로 위 실험을 통해 사실임을 알 수 있었다.\n",
    "물론 n log(n) 코드의 경우에는 그 차이가 매우 근소하다. 하지만 sort 해주는 함수를 지우고 다시 측정하였을 때에는 큰 속도 차이가 나는 것을 알 수 있었다."
   ]
  }
 ],
 "metadata": {
  "kernelspec": {
   "display_name": "Python 3.9.6 64-bit",
   "language": "python",
   "name": "python3"
  },
  "language_info": {
   "codemirror_mode": {
    "name": "ipython",
    "version": 3
   },
   "file_extension": ".py",
   "mimetype": "text/x-python",
   "name": "python",
   "nbconvert_exporter": "python",
   "pygments_lexer": "ipython3",
   "version": "3.9.6"
  },
  "orig_nbformat": 4,
  "vscode": {
   "interpreter": {
    "hash": "31f2aee4e71d21fbe5cf8b01ff0e069b9275f58929596ceb00d14d90e3e16cd6"
   }
  }
 },
 "nbformat": 4,
 "nbformat_minor": 2
}
