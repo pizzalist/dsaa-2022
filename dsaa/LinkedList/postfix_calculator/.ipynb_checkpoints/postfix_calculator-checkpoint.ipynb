{
 "cells": [
  {
   "cell_type": "code",
   "execution_count": 1,
   "id": "628339be",
   "metadata": {},
   "outputs": [],
   "source": [
    "post_fix_data = \"3 5 * 4 +\"\n",
    "element_list = post_fix_data.split()"
   ]
  },
  {
   "cell_type": "code",
   "execution_count": 2,
   "id": "3ad8d4f6",
   "metadata": {},
   "outputs": [
    {
     "data": {
      "text/plain": [
       "['3', '5', '*', '4', '+']"
      ]
     },
     "execution_count": 2,
     "metadata": {},
     "output_type": "execute_result"
    }
   ],
   "source": [
    "element_list"
   ]
  },
  {
   "cell_type": "code",
   "execution_count": 3,
   "id": "594a3469",
   "metadata": {},
   "outputs": [
    {
     "data": {
      "text/plain": [
       "15"
      ]
     },
     "execution_count": 3,
     "metadata": {},
     "output_type": "execute_result"
    }
   ],
   "source": [
    "eval(\"10+5\")"
   ]
  },
  {
   "cell_type": "code",
   "execution_count": 5,
   "id": "3e0be0bd",
   "metadata": {},
   "outputs": [],
   "source": [
    "postfix_stack = []\n",
    "for element in element_list:\n",
    "    if element.isdigit():\n",
    "        postfix_stack.append(element)\n",
    "    else:\n",
    "        val_1 = int(postfix_stack.pop())\n",
    "        val_2 = int(postfix_stack.pop())\n",
    "        result = eval(f\"{val_1} {element} {val_2}\")\n",
    "        postfix_stack.append(result)"
   ]
  },
  {
   "cell_type": "code",
   "execution_count": 6,
   "id": "1ac4d4cc",
   "metadata": {},
   "outputs": [
    {
     "data": {
      "text/plain": [
       "[19]"
      ]
     },
     "execution_count": 6,
     "metadata": {},
     "output_type": "execute_result"
    }
   ],
   "source": [
    "postfix_stack"
   ]
  },
  {
   "cell_type": "code",
   "execution_count": 12,
   "id": "af52ddda",
   "metadata": {},
   "outputs": [],
   "source": [
    "def postfix_calculator(postfix_exp : str):\n",
    "    postfix_stack = []\n",
    "    for element in elelement_list:\n",
    "        print(element)\n",
    "        if element.isdigit():\n",
    "            postfix_stack.append(element)\n",
    "        else:\n",
    "            val_2 = int(postfix_stack.pop())\n",
    "            val_1 = int(postfix_stack.pop())\n",
    "            result = eval(f\"{val_1} {element} {val_2}\")\n",
    "            \n",
    "            postfix_stack.append(result)\n",
    "        print(postfix_stack)\n",
    "    return postfix_stack[0]"
   ]
  },
  {
   "cell_type": "code",
   "execution_count": 13,
   "id": "942f8c20",
   "metadata": {},
   "outputs": [
    {
     "name": "stdout",
     "output_type": "stream",
     "text": [
      "5\n",
      "['5']\n",
      "3\n",
      "['5', '3']\n",
      "+\n",
      "[8]\n",
      "8\n",
      "[8, '8']\n",
      "2\n",
      "[8, '8', '2']\n",
      "-\n",
      "[8, 6]\n",
      "*\n",
      "[48]\n"
     ]
    },
    {
     "data": {
      "text/plain": [
       "48"
      ]
     },
     "execution_count": 13,
     "metadata": {},
     "output_type": "execute_result"
    }
   ],
   "source": [
    "post_fix_data = \"5 3 + 8 2 - *\"\n",
    "elelement_list = post_fix_data.split()\n",
    "postfix_calculator(elelement_list)\n"
   ]
  },
  {
   "cell_type": "code",
   "execution_count": 14,
   "id": "94c68e13",
   "metadata": {},
   "outputs": [],
   "source": [
    "output_list = []\n",
    "pregress_stack = []\n",
    "\n",
    "def infix_to_postfix(expression): #input expression\n",
    "    \n",
    "    OPERATORS = set(['+', '-', '*', '/', '(', ')', '^'])  # set of operators\n",
    "    PRIORITY = {'+':1, '-':1, '*':2, '/':2, '^':3} # dictionary having priorities \n",
    "\n",
    "    stack = [] # initially stack empty\n",
    "    output = '' # initially output empty\n",
    "\n",
    "\n",
    "    for ch in expression:\n",
    "        if ch not in OPERATORS:  \n",
    "            output+= ch\n",
    "        elif ch=='(': \n",
    "            stack.append('(')\n",
    "        elif ch==')':\n",
    "            while stack and stack[-1]!= '(':\n",
    "                output += stack.pop()\n",
    "            stack.pop()\n",
    "        else:\n",
    "            while stack and stack[-1]!='(' and PRIORITY[ch]<=PRIORITY[stack[-1]]:\n",
    "                output+=stack.pop()\n",
    "            stack.append(ch)\n",
    "    while stack:\n",
    "        output+=stack.pop()\n",
    "\n",
    "    return output\n"
   ]
  },
  {
   "cell_type": "code",
   "execution_count": null,
   "id": "ead61512",
   "metadata": {},
   "outputs": [],
   "source": []
  },
  {
   "cell_type": "code",
   "execution_count": null,
   "id": "6ad43ba9",
   "metadata": {},
   "outputs": [],
   "source": []
  }
 ],
 "metadata": {
  "kernelspec": {
   "display_name": "Python 3 (ipykernel)",
   "language": "python",
   "name": "python3"
  },
  "language_info": {
   "codemirror_mode": {
    "name": "ipython",
    "version": 3
   },
   "file_extension": ".py",
   "mimetype": "text/x-python",
   "name": "python",
   "nbconvert_exporter": "python",
   "pygments_lexer": "ipython3",
   "version": "3.9.12"
  }
 },
 "nbformat": 4,
 "nbformat_minor": 5
}
