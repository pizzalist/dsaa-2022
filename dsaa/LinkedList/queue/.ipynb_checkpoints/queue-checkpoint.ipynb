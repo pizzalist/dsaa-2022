{
 "cells": [
  {
   "cell_type": "code",
   "execution_count": 1,
   "id": "bca483d8",
   "metadata": {},
   "outputs": [],
   "source": [
    "class Node:\n",
    "    def __init__(self, data):\n",
    "        self.data = data\n",
    "        self.next = None\n",
    "        \n",
    "    def __repr__(self):\n",
    "        return str(self.data)"
   ]
  },
  {
   "cell_type": "code",
   "execution_count": 2,
   "id": "ff527738",
   "metadata": {},
   "outputs": [],
   "source": [
    "class Queue:\n",
    "    def __init__(self, node = None):\n",
    "        self.size = 0\n",
    "        if node is not None:\n",
    "            self.head = node\n",
    "            self.tail = node\n",
    "            self.size += 1\n",
    "        else:\n",
    "            self.head = None\n",
    "            self.tail = None\n",
    "        \n",
    "    def enqueue(self, new_node):\n",
    "        if self.size == 0:\n",
    "            self.head = new_node\n",
    "            self.tail = new_node\n",
    "        else:\n",
    "            self.tail.next = new_node \n",
    "            self.tail = new_node\n",
    "        self.size += 1\n",
    "    \n",
    "    def dequeue(self):\n",
    "        if self.head is not None:\n",
    "            data = self.head\n",
    "            self.head = self.head.next \n",
    "        else:\n",
    "            raise Exception(\"Error\")\n",
    "        return data\n",
    "    \n",
    "    def __repr__(self):\n",
    "        cur_node = self.head\n",
    "        out = \"\"\n",
    "        while cur_node is not None:\n",
    "            out += str(cur_node.data) + \"-->\"\n",
    "            cur_node = cur_node.next\n",
    "        \n",
    "        return out\n",
    "    "
   ]
  },
  {
   "cell_type": "code",
   "execution_count": 3,
   "id": "cac79b2a",
   "metadata": {},
   "outputs": [],
   "source": [
    "my_queue = Queue()\n",
    "my_queue.enqueue(Node(10))\n",
    "my_queue.enqueue(Node(50))\n",
    "my_queue.enqueue(Node(80))\n",
    "my_queue.enqueue(Node(5))"
   ]
  },
  {
   "cell_type": "code",
   "execution_count": 4,
   "id": "7d8eb94b",
   "metadata": {},
   "outputs": [
    {
     "data": {
      "text/plain": [
       "10-->50-->80-->5-->"
      ]
     },
     "execution_count": 4,
     "metadata": {},
     "output_type": "execute_result"
    }
   ],
   "source": [
    "my_queue"
   ]
  },
  {
   "cell_type": "code",
   "execution_count": 5,
   "id": "ea59f5ea",
   "metadata": {},
   "outputs": [
    {
     "data": {
      "text/plain": [
       "10"
      ]
     },
     "execution_count": 5,
     "metadata": {},
     "output_type": "execute_result"
    }
   ],
   "source": [
    "my_queue.dequeue()"
   ]
  },
  {
   "cell_type": "code",
   "execution_count": 6,
   "id": "72620ee6",
   "metadata": {},
   "outputs": [
    {
     "data": {
      "text/plain": [
       "50-->80-->5-->"
      ]
     },
     "execution_count": 6,
     "metadata": {},
     "output_type": "execute_result"
    }
   ],
   "source": [
    "my_queue"
   ]
  },
  {
   "cell_type": "code",
   "execution_count": 1,
   "id": "2c0f1482",
   "metadata": {},
   "outputs": [
    {
     "name": "stdout",
     "output_type": "stream",
     "text": [
      "Requirement already satisfied: black[jupyter] in /Users/noah/.local/lib/python3.9/site-packages (22.10.0)\n",
      "Requirement already satisfied: tomli>=1.1.0 in /Users/noah/.local/lib/python3.9/site-packages (from black[jupyter]) (2.0.1)\n",
      "Requirement already satisfied: platformdirs>=2 in /Users/noah/.local/lib/python3.9/site-packages (from black[jupyter]) (2.5.2)\n",
      "Requirement already satisfied: typing-extensions>=3.10.0.0 in /Users/noah/.local/lib/python3.9/site-packages (from black[jupyter]) (4.4.0)\n",
      "Requirement already satisfied: mypy-extensions>=0.4.3 in /Users/noah/.local/lib/python3.9/site-packages (from black[jupyter]) (0.4.3)\n",
      "Requirement already satisfied: pathspec>=0.9.0 in /Users/noah/.local/lib/python3.9/site-packages (from black[jupyter]) (0.10.1)\n",
      "Requirement already satisfied: click>=8.0.0 in /Users/noah/.local/lib/python3.9/site-packages (from black[jupyter]) (8.1.3)\n",
      "Collecting tokenize-rt>=3.2.0\n",
      "  Downloading tokenize_rt-5.0.0-py2.py3-none-any.whl (5.8 kB)\n",
      "Requirement already satisfied: ipython>=7.8.0 in /Users/noah/downloads/python/lib/python3.9/site-packages (from black[jupyter]) (8.5.0)\n",
      "Requirement already satisfied: traitlets>=5 in /Users/noah/downloads/python/lib/python3.9/site-packages (from ipython>=7.8.0->black[jupyter]) (5.4.0)\n",
      "Requirement already satisfied: jedi>=0.16 in /Users/noah/downloads/python/lib/python3.9/site-packages (from ipython>=7.8.0->black[jupyter]) (0.18.1)\n",
      "Requirement already satisfied: decorator in /Users/noah/downloads/python/lib/python3.9/site-packages (from ipython>=7.8.0->black[jupyter]) (5.1.1)\n",
      "Requirement already satisfied: backcall in /Users/noah/downloads/python/lib/python3.9/site-packages (from ipython>=7.8.0->black[jupyter]) (0.2.0)\n",
      "Requirement already satisfied: pickleshare in /Users/noah/downloads/python/lib/python3.9/site-packages (from ipython>=7.8.0->black[jupyter]) (0.7.5)\n",
      "Requirement already satisfied: pexpect>4.3 in /Users/noah/downloads/python/lib/python3.9/site-packages (from ipython>=7.8.0->black[jupyter]) (4.8.0)\n",
      "Requirement already satisfied: matplotlib-inline in /Users/noah/downloads/python/lib/python3.9/site-packages (from ipython>=7.8.0->black[jupyter]) (0.1.6)\n",
      "Requirement already satisfied: pygments>=2.4.0 in /Users/noah/downloads/python/lib/python3.9/site-packages (from ipython>=7.8.0->black[jupyter]) (2.13.0)\n",
      "Requirement already satisfied: appnope in /Users/noah/downloads/python/lib/python3.9/site-packages (from ipython>=7.8.0->black[jupyter]) (0.1.3)\n",
      "Requirement already satisfied: prompt-toolkit<3.1.0,>3.0.1 in /Users/noah/downloads/python/lib/python3.9/site-packages (from ipython>=7.8.0->black[jupyter]) (3.0.31)\n",
      "Requirement already satisfied: stack-data in /Users/noah/downloads/python/lib/python3.9/site-packages (from ipython>=7.8.0->black[jupyter]) (0.5.1)\n",
      "Requirement already satisfied: parso<0.9.0,>=0.8.0 in /Users/noah/downloads/python/lib/python3.9/site-packages (from jedi>=0.16->ipython>=7.8.0->black[jupyter]) (0.8.3)\n",
      "Requirement already satisfied: ptyprocess>=0.5 in /Users/noah/downloads/python/lib/python3.9/site-packages (from pexpect>4.3->ipython>=7.8.0->black[jupyter]) (0.7.0)\n",
      "Requirement already satisfied: wcwidth in /Users/noah/downloads/python/lib/python3.9/site-packages (from prompt-toolkit<3.1.0,>3.0.1->ipython>=7.8.0->black[jupyter]) (0.2.5)\n",
      "Requirement already satisfied: pure-eval in /Users/noah/downloads/python/lib/python3.9/site-packages (from stack-data->ipython>=7.8.0->black[jupyter]) (0.2.2)\n",
      "Requirement already satisfied: asttokens in /Users/noah/downloads/python/lib/python3.9/site-packages (from stack-data->ipython>=7.8.0->black[jupyter]) (2.0.8)\n",
      "Requirement already satisfied: executing in /Users/noah/downloads/python/lib/python3.9/site-packages (from stack-data->ipython>=7.8.0->black[jupyter]) (1.1.0)\n",
      "Requirement already satisfied: six in /Users/noah/downloads/python/lib/python3.9/site-packages (from asttokens->stack-data->ipython>=7.8.0->black[jupyter]) (1.16.0)\n",
      "Installing collected packages: tokenize-rt\n",
      "Successfully installed tokenize-rt-5.0.0\n",
      "Note: you may need to restart the kernel to use updated packages.\n"
     ]
    }
   ],
   "source": [
    "pip install 'black[jupyter]'"
   ]
  },
  {
   "cell_type": "code",
   "execution_count": null,
   "id": "cf6760b6",
   "metadata": {},
   "outputs": [],
   "source": []
  }
 ],
 "metadata": {
  "kernelspec": {
   "display_name": "Python 3 (ipykernel)",
   "language": "python",
   "name": "python3"
  },
  "language_info": {
   "codemirror_mode": {
    "name": "ipython",
    "version": 3
   },
   "file_extension": ".py",
   "mimetype": "text/x-python",
   "name": "python",
   "nbconvert_exporter": "python",
   "pygments_lexer": "ipython3",
   "version": "3.9.12"
  }
 },
 "nbformat": 4,
 "nbformat_minor": 5
}
