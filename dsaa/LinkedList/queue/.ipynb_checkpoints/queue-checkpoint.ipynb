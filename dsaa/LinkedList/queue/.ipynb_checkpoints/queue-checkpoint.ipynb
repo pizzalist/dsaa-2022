{
 "cells": [
  {
   "cell_type": "code",
   "execution_count": 1,
   "id": "bca483d8",
   "metadata": {},
   "outputs": [],
   "source": [
    "class Node:\n",
    "    def __init__(self, data):\n",
    "        self.data = data\n",
    "        self.next = None\n",
    "        \n",
    "    def __repr__(self):\n",
    "        return str(self.data)"
   ]
  },
  {
   "cell_type": "code",
   "execution_count": 2,
   "id": "ff527738",
   "metadata": {},
   "outputs": [],
   "source": [
    "class Queue:\n",
    "    def __init__(self, node = None):\n",
    "        self.size = 0\n",
    "        if node is not None:\n",
    "            self.head = node\n",
    "            self.tail = node\n",
    "            self.size += 1\n",
    "        else:\n",
    "            self.head = None\n",
    "            self.tail = None\n",
    "        \n",
    "    def enqueue(self, new_node):\n",
    "        if self.size == 0:\n",
    "            self.head = new_node\n",
    "            self.tail = new_node\n",
    "        else:\n",
    "            self.tail.next = new_node \n",
    "            self.tail = new_node\n",
    "        self.size += 1\n",
    "    \n",
    "    def dequeue(self):\n",
    "        if self.head is not None:\n",
    "            data = self.head\n",
    "            self.head = self.head.next \n",
    "        else:\n",
    "            raise Exception(\"Error\")\n",
    "        return data\n",
    "    \n",
    "    def __repr__(self):\n",
    "        cur_node = self.head\n",
    "        out = \"\"\n",
    "        while cur_node is not None:\n",
    "            out += str(cur_node.data) + \"-->\"\n",
    "            cur_node = cur_node.next\n",
    "        \n",
    "        return out\n",
    "    "
   ]
  },
  {
   "cell_type": "code",
   "execution_count": 3,
   "id": "cac79b2a",
   "metadata": {},
   "outputs": [],
   "source": [
    "my_queue = Queue()\n",
    "my_queue.enqueue(Node(10))\n",
    "my_queue.enqueue(Node(50))\n",
    "my_queue.enqueue(Node(80))\n",
    "my_queue.enqueue(Node(5))"
   ]
  },
  {
   "cell_type": "code",
   "execution_count": 4,
   "id": "7d8eb94b",
   "metadata": {},
   "outputs": [
    {
     "data": {
      "text/plain": [
       "10-->50-->80-->5-->"
      ]
     },
     "execution_count": 4,
     "metadata": {},
     "output_type": "execute_result"
    }
   ],
   "source": [
    "my_queue"
   ]
  },
  {
   "cell_type": "code",
   "execution_count": 5,
   "id": "ea59f5ea",
   "metadata": {},
   "outputs": [
    {
     "data": {
      "text/plain": [
       "10"
      ]
     },
     "execution_count": 5,
     "metadata": {},
     "output_type": "execute_result"
    }
   ],
   "source": [
    "my_queue.dequeue()"
   ]
  },
  {
   "cell_type": "code",
   "execution_count": 6,
   "id": "72620ee6",
   "metadata": {},
   "outputs": [
    {
     "data": {
      "text/plain": [
       "50-->80-->5-->"
      ]
     },
     "execution_count": 6,
     "metadata": {},
     "output_type": "execute_result"
    }
   ],
   "source": [
    "my_queue"
   ]
  },
  {
   "cell_type": "code",
   "execution_count": null,
   "id": "2c0f1482",
   "metadata": {},
   "outputs": [],
   "source": []
  }
 ],
 "metadata": {
  "kernelspec": {
   "display_name": "Python 3 (ipykernel)",
   "language": "python",
   "name": "python3"
  },
  "language_info": {
   "codemirror_mode": {
    "name": "ipython",
    "version": 3
   },
   "file_extension": ".py",
   "mimetype": "text/x-python",
   "name": "python",
   "nbconvert_exporter": "python",
   "pygments_lexer": "ipython3",
   "version": "3.9.12"
  }
 },
 "nbformat": 4,
 "nbformat_minor": 5
}
