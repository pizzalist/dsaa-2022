{
 "cells": [
  {
   "cell_type": "code",
   "execution_count": 19,
   "id": "09a17286",
   "metadata": {},
   "outputs": [],
   "source": [
    "class Node(object):\n",
    "    def __init__(self, data):\n",
    "        self.data = data\n",
    "        self.next = None\n",
    "    def __repr__(self):\n",
    "        return str(self.data)\n",
    "class Stack():\n",
    "    def __init__(self, first_node: Node= None):\n",
    "        self.size = 0\n",
    "        self.top = None\n",
    "        \n",
    "        if first_node is not Node:\n",
    "            self.top = first_node\n",
    "            self.size += 1\n",
    "        else:\n",
    "            self.top = Node\n",
    "            self.size = 0\n",
    "    def push(self, new_node: Node):\n",
    "        new_node.next = self.top\n",
    "        self.top = new_node\n",
    "        self.size += 1\n",
    "        self.size -= 1\n",
    "    \n",
    "    def empty(self):\n",
    "        pass\n",
    "    \n",
    "    def pop(self):\n",
    "        if self.is_empty():\n",
    "            raise Exception(\"Popping from an empty stack\")\n",
    "        return_value = self.top\n",
    "        self.top = self.top.next\n",
    "    \n",
    "    def peek(self):\n",
    "        return self.top\n",
    "    \n",
    "    def is_empty(self)-> bool:\n",
    "        return True if self.size == 0 else False\n",
    "    \n",
    "    def get_size(self)-> int:\n",
    "        return self.size\n",
    "    \n",
    "    def __repr__(self):\n",
    "        cur_node = self.top \n",
    "        out_list = []\n",
    "        \n",
    "        while cur_node is not None:\n",
    "            out_list.append(\n",
    "                str(cur_node.data))\n",
    "            cur_node = cur_node.next\n",
    "        out_list = reversed(out_list)\n",
    "        return \"-->\".join(out_list)\n",
    "        \n",
    "    "
   ]
  },
  {
   "cell_type": "code",
   "execution_count": 20,
   "id": "e8dc199e",
   "metadata": {},
   "outputs": [],
   "source": [
    "my_stack = Stack()\n",
    "from random import randint\n",
    "for i in range(5):\n",
    "    my_stack.push(Node((randint(1,1000))))\n"
   ]
  },
  {
   "cell_type": "code",
   "execution_count": 21,
   "id": "06d492ac",
   "metadata": {},
   "outputs": [
    {
     "data": {
      "text/plain": [
       "479-->367-->444-->802-->914"
      ]
     },
     "execution_count": 21,
     "metadata": {},
     "output_type": "execute_result"
    }
   ],
   "source": [
    "my_stack"
   ]
  },
  {
   "cell_type": "code",
   "execution_count": 22,
   "id": "1ed3016d",
   "metadata": {},
   "outputs": [],
   "source": [
    "my_stack.pop()"
   ]
  },
  {
   "cell_type": "code",
   "execution_count": 23,
   "id": "f5fdb3b8",
   "metadata": {},
   "outputs": [
    {
     "data": {
      "text/plain": [
       "479-->367-->444-->802"
      ]
     },
     "execution_count": 23,
     "metadata": {},
     "output_type": "execute_result"
    }
   ],
   "source": [
    "my_stack"
   ]
  },
  {
   "cell_type": "code",
   "execution_count": 24,
   "id": "ffaaad78",
   "metadata": {},
   "outputs": [],
   "source": [
    "my_stack.pop()"
   ]
  },
  {
   "cell_type": "code",
   "execution_count": 25,
   "id": "e2b18d3a",
   "metadata": {},
   "outputs": [
    {
     "data": {
      "text/plain": [
       "479-->367-->444"
      ]
     },
     "execution_count": 25,
     "metadata": {},
     "output_type": "execute_result"
    }
   ],
   "source": [
    "my_stack"
   ]
  },
  {
   "cell_type": "code",
   "execution_count": 34,
   "id": "1bf8782e",
   "metadata": {},
   "outputs": [
    {
     "data": {
      "text/plain": [
       "__main__.Node"
      ]
     },
     "execution_count": 34,
     "metadata": {},
     "output_type": "execute_result"
    }
   ],
   "source": [
    "type(my_stack.peek())"
   ]
  },
  {
   "cell_type": "code",
   "execution_count": null,
   "id": "78c293ba",
   "metadata": {},
   "outputs": [],
   "source": []
  },
  {
   "cell_type": "code",
   "execution_count": null,
   "id": "4b2fffe4",
   "metadata": {},
   "outputs": [],
   "source": []
  },
  {
   "cell_type": "code",
   "execution_count": null,
   "id": "87dfe66b",
   "metadata": {},
   "outputs": [],
   "source": []
  }
 ],
 "metadata": {
  "kernelspec": {
   "display_name": "Python 3 (ipykernel)",
   "language": "python",
   "name": "python3"
  },
  "language_info": {
   "codemirror_mode": {
    "name": "ipython",
    "version": 3
   },
   "file_extension": ".py",
   "mimetype": "text/x-python",
   "name": "python",
   "nbconvert_exporter": "python",
   "pygments_lexer": "ipython3",
   "version": "3.9.12"
  }
 },
 "nbformat": 4,
 "nbformat_minor": 5
}
