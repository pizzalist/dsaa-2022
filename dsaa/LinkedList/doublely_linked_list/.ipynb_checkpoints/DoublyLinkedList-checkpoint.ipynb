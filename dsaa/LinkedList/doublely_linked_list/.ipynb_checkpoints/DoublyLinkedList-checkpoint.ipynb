{
 "cells": [
  {
   "cell_type": "code",
   "execution_count": 5,
   "id": "5609486a",
   "metadata": {},
   "outputs": [
    {
     "data": {
      "text/plain": [
       "<module 'teamlab_ds' from '/Users/noah/workspace/dsaa-2022/dsaa/LinkedList/doublely_linked_list/teamlab_ds.py'>"
      ]
     },
     "execution_count": 5,
     "metadata": {},
     "output_type": "execute_result"
    }
   ],
   "source": [
    "import importlib\n",
    "import teamlab_ds as ds\n",
    "importlib.reload(ds)"
   ]
  },
  {
   "cell_type": "code",
   "execution_count": 6,
   "id": "863f920f",
   "metadata": {},
   "outputs": [],
   "source": [
    "node_1 = ds.Node()\n",
    "node_2 = ds.Node()\n",
    "node_3 = ds.Node()"
   ]
  },
  {
   "cell_type": "code",
   "execution_count": 7,
   "id": "736ee02b",
   "metadata": {},
   "outputs": [],
   "source": [
    "node_1.data = 10\n",
    "node_2.data = 20\n",
    "node_3.data = 30"
   ]
  },
  {
   "cell_type": "code",
   "execution_count": 8,
   "id": "a3537eaf",
   "metadata": {},
   "outputs": [],
   "source": [
    "ex = [node_1,node_2,node_3]"
   ]
  },
  {
   "cell_type": "code",
   "execution_count": 9,
   "id": "466e4fe9",
   "metadata": {},
   "outputs": [],
   "source": [
    "node_1.prev = None\n",
    "node_1.next = node_2\n",
    "\n",
    "node_2.next = node_3\n",
    "node_2.prev = node_1\n",
    "\n",
    "node_3.next = None\n",
    "node_3.prev = node_2\n",
    "\n"
   ]
  },
  {
   "cell_type": "code",
   "execution_count": 10,
   "id": "7ab2eae6",
   "metadata": {},
   "outputs": [
    {
     "name": "stdout",
     "output_type": "stream",
     "text": [
      "10\n",
      "20\n",
      "30\n"
     ]
    }
   ],
   "source": [
    "head_node = node_1\n",
    "tail_node = node_3\n",
    "cur_node = head_node\n",
    "\n",
    "while cur_node.next is not None:\n",
    "    print(cur_node)\n",
    "    cur_node = cur_node.next\n",
    "print(cur_node)"
   ]
  },
  {
   "cell_type": "code",
   "execution_count": 11,
   "id": "1dcc3009",
   "metadata": {},
   "outputs": [
    {
     "name": "stdout",
     "output_type": "stream",
     "text": [
      "30\n",
      "20\n",
      "10\n"
     ]
    }
   ],
   "source": [
    "head_node = node_1\n",
    "tail_node = node_3\n",
    "cur_node = tail_node\n",
    "\n",
    "while cur_node.prev is not None:\n",
    "    print(cur_node)\n",
    "    cur_node = cur_node.prev\n",
    "print(cur_node)"
   ]
  },
  {
   "cell_type": "code",
   "execution_count": 51,
   "id": "0d30ced6",
   "metadata": {},
   "outputs": [],
   "source": [
    "class DoublyLinkedListBag:\n",
    "    def __init__(self):\n",
    "        self.head = None\n",
    "        self.tail = None\n",
    "        self.size = 0\n",
    "        \n",
    "    def append(self, new_node : 'Node'):\n",
    "        #혹시 비었니?\n",
    "        if self.head is not None:\n",
    "            self.tail.next = new_node\n",
    "            new_node.prev = self.tail \n",
    "            self.tail = new_node\n",
    "        else:\n",
    "            self.head = new_node\n",
    "            self.tail = new_node\n",
    "        \n",
    "        self.size += 1\n",
    "    \n",
    "    def insert(self):\n",
    "        pass\n",
    "    \n",
    "    def remove(self, target_data):\n",
    "        #혹시 비었니?\n",
    "        if self.size == 0:\n",
    "            raise ValueError(\"remove(x): x not in list\")\n",
    "        \n",
    "        if target_data == self.head.data:\n",
    "            self.head = self.head.next\n",
    "            self.head.prev = None\n",
    "            return\n",
    "        if target_data == self.tail.data:\n",
    "            self.tail = self.tail.prev\n",
    "            self.tail.next = None\n",
    "            return\n",
    "\n",
    "        while cur_node is not None:\n",
    "            if target_data == cur_node.data:\n",
    "                cur_node.prev.next = cur_node.next\n",
    "                cur_node.next.prev = cur_node.prev\n",
    "                cur_node = None\n",
    "                break\n",
    "            else:\n",
    "                cur_node = cur_node.next\n",
    "        else:\n",
    "            raise ValueError(\"remove(x): x not in list\")\n",
    "    \n",
    "    def peak(self):\n",
    "        return self.tail\n",
    "    \n",
    "    def __repr__(self):\n",
    "        output = \"\"\n",
    "        cur_node = self.head\n",
    "        while cur_node is not None:\n",
    "            output += f\"{cur_node.data} -->\"\n",
    "            cur_node = cur_node.next\n",
    "            \n",
    "        return output"
   ]
  },
  {
   "cell_type": "code",
   "execution_count": null,
   "id": "fcf4601d",
   "metadata": {},
   "outputs": [],
   "source": []
  },
  {
   "cell_type": "code",
   "execution_count": 52,
   "id": "cedec03d",
   "metadata": {},
   "outputs": [],
   "source": [
    "node_1 = ds.Node()\n",
    "node_2 = ds.Node()\n",
    "node_3 = ds.Node()\n",
    "\n",
    "node_1.data = 10\n",
    "node_2.data = 20\n",
    "node_3.data = 30\n",
    "mybag = DoublyLinkedListBag()\n",
    "mybag.append(node_1)\n",
    "mybag.append(node_2)\n",
    "mybag.append(node_3)"
   ]
  },
  {
   "cell_type": "code",
   "execution_count": 55,
   "id": "63c3154d",
   "metadata": {},
   "outputs": [],
   "source": [
    "mybag.remove(10)"
   ]
  },
  {
   "cell_type": "code",
   "execution_count": 56,
   "id": "1e1f737b",
   "metadata": {},
   "outputs": [
    {
     "data": {
      "text/plain": [
       "20 -->"
      ]
     },
     "execution_count": 56,
     "metadata": {},
     "output_type": "execute_result"
    }
   ],
   "source": [
    "mybag"
   ]
  },
  {
   "cell_type": "code",
   "execution_count": 16,
   "id": "306a0d47",
   "metadata": {},
   "outputs": [
    {
     "name": "stdout",
     "output_type": "stream",
     "text": [
      "10\n",
      "20\n",
      "30\n"
     ]
    }
   ],
   "source": [
    "cur_node = node_1\n",
    "while cur_node.next is not None:\n",
    "    print(cur_node)\n",
    "    cur_node = cur_node.next\n",
    "print(cur_node)"
   ]
  },
  {
   "cell_type": "code",
   "execution_count": 17,
   "id": "b47d7fab",
   "metadata": {},
   "outputs": [
    {
     "name": "stdout",
     "output_type": "stream",
     "text": [
      "30\n",
      "20\n",
      "10\n"
     ]
    }
   ],
   "source": [
    "cur_node = node_3\n",
    "while cur_node.prev is not None:\n",
    "    print(cur_node)\n",
    "    cur_node = cur_node.prev\n",
    "print(cur_node)"
   ]
  },
  {
   "cell_type": "code",
   "execution_count": 23,
   "id": "3beac919",
   "metadata": {},
   "outputs": [],
   "source": [
    "mybag = DoublyLinkedListBag()\n",
    "mybag.append(node_1)\n",
    "mybag.append(node_2)\n",
    "mybag.append(node_3)"
   ]
  },
  {
   "cell_type": "code",
   "execution_count": 24,
   "id": "6caec657",
   "metadata": {},
   "outputs": [
    {
     "data": {
      "text/plain": [
       "30"
      ]
     },
     "execution_count": 24,
     "metadata": {},
     "output_type": "execute_result"
    }
   ],
   "source": [
    "mybag.peak()"
   ]
  },
  {
   "cell_type": "code",
   "execution_count": 28,
   "id": "249f3a6b",
   "metadata": {},
   "outputs": [],
   "source": [
    "mybag.remove(40)"
   ]
  },
  {
   "cell_type": "code",
   "execution_count": null,
   "id": "7a45abc8",
   "metadata": {},
   "outputs": [],
   "source": []
  }
 ],
 "metadata": {
  "kernelspec": {
   "display_name": "Python 3 (ipykernel)",
   "language": "python",
   "name": "python3"
  },
  "language_info": {
   "codemirror_mode": {
    "name": "ipython",
    "version": 3
   },
   "file_extension": ".py",
   "mimetype": "text/x-python",
   "name": "python",
   "nbconvert_exporter": "python",
   "pygments_lexer": "ipython3",
   "version": "3.9.12"
  }
 },
 "nbformat": 4,
 "nbformat_minor": 5
}
