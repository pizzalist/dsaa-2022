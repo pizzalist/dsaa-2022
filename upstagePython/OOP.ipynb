{
 "cells": [
  {
   "cell_type": "code",
   "execution_count": 7,
   "id": "571adba4",
   "metadata": {},
   "outputs": [],
   "source": [
    "class SoccerPlayer(object):\n",
    "    def __init__ (self, name : str , position : str, back_number : int):\n",
    "        self.name = name\n",
    "        self.position = position\n",
    "        self.back_number = back_number\n",
    "        \n",
    "    def __str__(self):\n",
    "        return \"Hello, My name is %s. My back number is %d\" % \\\n",
    "                (self.name, self.back_number)\n",
    "    \n",
    "    def __add__(self, other):\n",
    "        return self.name + other.name\n",
    "    \n",
    "    def change_back_number(self, new_number):\n",
    "        print(\"선수의 등번호를 변경합니다. : From %d to %d\" % (self.back_number,new_number))\n",
    "        self.back_number = new_number\n",
    "        "
   ]
  },
  {
   "cell_type": "code",
   "execution_count": 8,
   "id": "f2e098d2",
   "metadata": {},
   "outputs": [],
   "source": [
    "son = SoccerPlayer(\"son\", \"FW\", 7 )\n",
    "park = SoccerPlayer(\"park\", \"WF\", 13 )  "
   ]
  },
  {
   "cell_type": "code",
   "execution_count": 9,
   "id": "32c55dbe",
   "metadata": {},
   "outputs": [
    {
     "data": {
      "text/plain": [
       "False"
      ]
     },
     "execution_count": 9,
     "metadata": {},
     "output_type": "execute_result"
    }
   ],
   "source": [
    "son is park"
   ]
  },
  {
   "cell_type": "code",
   "execution_count": 10,
   "id": "5fbe3723",
   "metadata": {},
   "outputs": [
    {
     "data": {
      "text/plain": [
       "'sonpark'"
      ]
     },
     "execution_count": 10,
     "metadata": {},
     "output_type": "execute_result"
    }
   ],
   "source": [
    "son + park"
   ]
  },
  {
   "cell_type": "code",
   "execution_count": 11,
   "id": "dc7fb2a6",
   "metadata": {},
   "outputs": [
    {
     "name": "stdout",
     "output_type": "stream",
     "text": [
      "Hello, My name is son. My back number is 7\n"
     ]
    }
   ],
   "source": [
    "print(son)"
   ]
  },
  {
   "cell_type": "code",
   "execution_count": 12,
   "id": "a9d059a7",
   "metadata": {},
   "outputs": [
    {
     "name": "stdout",
     "output_type": "stream",
     "text": [
      "선수의 등번호를 변경합니다. : From 7 to 8\n",
      "Hello, My name is son. My back number is 8\n"
     ]
    }
   ],
   "source": [
    "son.change_back_number(8)\n",
    "print(son)"
   ]
  },
  {
   "cell_type": "markdown",
   "id": "92065316",
   "metadata": {},
   "source": [
    "# 노트 기능 구현"
   ]
  },
  {
   "cell_type": "code",
   "execution_count": 15,
   "id": "f6402bd8",
   "metadata": {},
   "outputs": [],
   "source": [
    "class Note(object):\n",
    "    def __init__(self, content = None):\n",
    "        self.content = content\n",
    "    \n",
    "    def wirte_content(self, content):\n",
    "        self.content = content\n",
    "    \n",
    "    def remove_all(self):\n",
    "        self.content = \"\"\n",
    "        \n",
    "    def __add__(self, other):\n",
    "        return self.content + other.content\n",
    "    \n",
    "    def __str__(self):\n",
    "        return self.content\n",
    "    \n",
    "    "
   ]
  },
  {
   "cell_type": "code",
   "execution_count": 17,
   "id": "3461acf5",
   "metadata": {},
   "outputs": [],
   "source": [
    "class NoteBook(object):\n",
    "    def __int__(self, title):\n",
    "        self.title = title\n",
    "        self.page_number = 1\n",
    "        self.note = {}\n",
    "        \n",
    "    def add_note(self, note, page = 0):\n",
    "        if self.page_number < 300:\n",
    "            self.notes[self.page_number] = note\n",
    "            self.page_number += 1\n",
    "        else:\n",
    "            print(\"Page가 모두 채워졌습니다.\")\n",
    "            \n",
    "    def remove_note(self, page_number):\n",
    "        if page_number in self.notes.keys():\n",
    "            return self.notes.pop(page_number)\n",
    "        else:\n",
    "            print(\"해당 페이지는 존재하지 않습니다.\")\n",
    "            \n",
    "    def get_number_of_pages(self):\n",
    "        return len(self.notes.keys)"
   ]
  },
  {
   "cell_type": "markdown",
   "id": "cd7fcd39",
   "metadata": {},
   "source": [
    "# Inheritance"
   ]
  },
  {
   "cell_type": "code",
   "execution_count": 34,
   "id": "7619daf4",
   "metadata": {},
   "outputs": [],
   "source": [
    "class Person(object):\n",
    "    def __init__(self, name, age,gender):\n",
    "        self.name = name\n",
    "        self.age = age\n",
    "        self.gender = gender\n",
    "    def about_me(self):\n",
    "        print(\"저의 이름은\", self.name, \"이구요, 제 나이는\",str(self.age),\"살 입니다.\")\n",
    "    def __str__(self):\n",
    "        return \"저의 이름은 {0}입니다. 나이는 {1}입니다.\".format(\n",
    "            self.name, self.age\n",
    "    )"
   ]
  },
  {
   "cell_type": "code",
   "execution_count": 35,
   "id": "a8b510c1",
   "metadata": {},
   "outputs": [],
   "source": [
    "class Korean(Person):\n",
    "    pass\n"
   ]
  },
  {
   "cell_type": "code",
   "execution_count": 36,
   "id": "87049634",
   "metadata": {},
   "outputs": [
    {
     "name": "stdout",
     "output_type": "stream",
     "text": [
      "저의 이름은 noah입니다. 나이는 24입니다.\n"
     ]
    }
   ],
   "source": [
    "first_korean = Korean(\"noah\",24,\"남자\")\n",
    "print(first_korean)"
   ]
  },
  {
   "cell_type": "code",
   "execution_count": 37,
   "id": "ea356f85",
   "metadata": {},
   "outputs": [],
   "source": [
    "class Employee(Person):\n",
    "    def __init__(self, name, age, gender, salary, hire_date):\n",
    "        super().__init__(name,age,gender)\n",
    "        self.salary = salary\n",
    "        self.hire_date = hire_date\n",
    "        \n",
    "    def do_work(self):\n",
    "        print(\"열심히 일을 합니다.\")\n",
    "        \n",
    "    def about_me(self):\n",
    "        super().about_me()\n",
    "        print(\"제 급여는\", self.salary,\"원 이구요, 최저시급을 못받아요. 제 입사일은\", self.hire_date,\"입니다.\")"
   ]
  },
  {
   "cell_type": "code",
   "execution_count": 38,
   "id": "4058a799",
   "metadata": {},
   "outputs": [
    {
     "name": "stdout",
     "output_type": "stream",
     "text": [
      "저의 이름은 성훈 이구요, 제 나이는 24 살 입니다.\n",
      "제 급여는 8720 원 이구요, 최저시급을 못받아요. 제 입사일은 2021/10/8 입니다.\n"
     ]
    }
   ],
   "source": [
    "myEmployeed = Employee(\"성훈\",24,\"남자\",8720,\"2021/10/8\")\n",
    "myEmployeed.about_me()"
   ]
  },
  {
   "cell_type": "markdown",
   "id": "6fba5ddd",
   "metadata": {},
   "source": [
    "# Polymorphism "
   ]
  },
  {
   "cell_type": "code",
   "execution_count": 41,
   "id": "47c57365",
   "metadata": {},
   "outputs": [],
   "source": [
    "class Animal:\n",
    "    def __init__(self, name):\n",
    "        self.name = name\n",
    "        \n",
    "    def talk(self):\n",
    "        raise NotImplementedError(\"Subclass must implement abstract method\")\n",
    "    \n"
   ]
  },
  {
   "cell_type": "code",
   "execution_count": 42,
   "id": "5f1ccf9d",
   "metadata": {},
   "outputs": [],
   "source": [
    "class Cat(Animal):\n",
    "    def talk(self):\n",
    "        return 'Meow'\n",
    "\n",
    "class Dog(Animal):\n",
    "    def talk(self):\n",
    "        return \"woof\""
   ]
  },
  {
   "cell_type": "code",
   "execution_count": 43,
   "id": "a5d8fc7e",
   "metadata": {},
   "outputs": [
    {
     "name": "stdout",
     "output_type": "stream",
     "text": [
      "Missy:Meow\n",
      "Mr. Mistof:Meow\n",
      "lassie:woof\n"
     ]
    }
   ],
   "source": [
    "animals = [Cat('Missy'),\n",
    "          Cat('Mr. Mistof'),\n",
    "          Dog('lassie')]\n",
    "for animal in animals:\n",
    "    print(animal.name + ':' + animal.talk())"
   ]
  },
  {
   "cell_type": "markdown",
   "id": "49243063",
   "metadata": {},
   "source": [
    "# Visibility"
   ]
  },
  {
   "cell_type": "code",
   "execution_count": 45,
   "id": "7d7a6ab6",
   "metadata": {},
   "outputs": [],
   "source": [
    "class Product(object):\n",
    "    pass"
   ]
  },
  {
   "cell_type": "code",
   "execution_count": 57,
   "id": "04bcdadd",
   "metadata": {},
   "outputs": [],
   "source": [
    "class Inventory(object):\n",
    "    def __init__(self):\n",
    "        self.items = []\n",
    "        self.test = \"abc\"\n",
    "        \n",
    "    def add_new_item(self, product):\n",
    "        if type(product) == Product:\n",
    "            self.items.append(product)\n",
    "            print(\"new item added\")\n",
    "        else:\n",
    "            raise ValueError(\"Invalid Item\")\n",
    "    def get_number_of_items(self):\n",
    "        return len(self.items)"
   ]
  },
  {
   "cell_type": "code",
   "execution_count": 58,
   "id": "98cd8003",
   "metadata": {},
   "outputs": [
    {
     "name": "stdout",
     "output_type": "stream",
     "text": [
      "new item added\n",
      "new item added\n"
     ]
    },
    {
     "data": {
      "text/plain": [
       "<__main__.Inventory at 0x7fc9d1260e20>"
      ]
     },
     "execution_count": 58,
     "metadata": {},
     "output_type": "execute_result"
    }
   ],
   "source": [
    "my_inventory = Inventory()\n",
    "my_inventory.add_new_item(Product())\n",
    "my_inventory.add_new_item(Product())\n",
    "my_inventory\n"
   ]
  },
  {
   "cell_type": "code",
   "execution_count": 59,
   "id": "a6c7606d",
   "metadata": {},
   "outputs": [
    {
     "data": {
      "text/plain": [
       "[<__main__.Product at 0x7fc9d14fb940>, <__main__.Product at 0x7fc9d0fdd820>]"
      ]
     },
     "execution_count": 59,
     "metadata": {},
     "output_type": "execute_result"
    }
   ],
   "source": [
    "my_inventory.items"
   ]
  },
  {
   "cell_type": "code",
   "execution_count": 63,
   "id": "5b86dd15",
   "metadata": {},
   "outputs": [],
   "source": [
    "class Inventory(object):\n",
    "    def __init__(self):\n",
    "        self.__items = []\n",
    "        \n",
    "    def add_new_item(self, product):\n",
    "        if type(product) == Product:\n",
    "            self.__items.append(product)\n",
    "            print(\"new item added\")\n",
    "        else:\n",
    "            raise ValueError(\"Invalid Item\")\n",
    "    def get_number_of_items(self):\n",
    "        return len(self.__items)\n",
    "    \n",
    "    @property\n",
    "    def items(self):\n",
    "        return self.__items"
   ]
  },
  {
   "cell_type": "code",
   "execution_count": 64,
   "id": "edf2dddf",
   "metadata": {},
   "outputs": [
    {
     "name": "stdout",
     "output_type": "stream",
     "text": [
      "new item added\n",
      "new item added\n"
     ]
    },
    {
     "data": {
      "text/plain": [
       "<__main__.Inventory at 0x7fc9d14fbfa0>"
      ]
     },
     "execution_count": 64,
     "metadata": {},
     "output_type": "execute_result"
    }
   ],
   "source": [
    "my_inventory = Inventory()\n",
    "my_inventory.add_new_item(Product())\n",
    "my_inventory.add_new_item(Product())\n",
    "my_inventory"
   ]
  },
  {
   "cell_type": "code",
   "execution_count": 65,
   "id": "b7bb3f8d",
   "metadata": {},
   "outputs": [
    {
     "ename": "AttributeError",
     "evalue": "'Inventory' object has no attribute '__items'",
     "output_type": "error",
     "traceback": [
      "\u001b[0;31m---------------------------------------------------------------------------\u001b[0m",
      "\u001b[0;31mAttributeError\u001b[0m                            Traceback (most recent call last)",
      "Cell \u001b[0;32mIn [65], line 1\u001b[0m\n\u001b[0;32m----> 1\u001b[0m my_inventory\u001b[38;5;241m.\u001b[39m__items\n",
      "\u001b[0;31mAttributeError\u001b[0m: 'Inventory' object has no attribute '__items'"
     ]
    }
   ],
   "source": [
    "my_inventory.__items"
   ]
  },
  {
   "cell_type": "code",
   "execution_count": 66,
   "id": "eee1a138",
   "metadata": {},
   "outputs": [
    {
     "data": {
      "text/plain": [
       "[<__main__.Product at 0x7fc9d111d2b0>, <__main__.Product at 0x7fc9d14fbb50>]"
      ]
     },
     "execution_count": 66,
     "metadata": {},
     "output_type": "execute_result"
    }
   ],
   "source": [
    "my_inventory.items"
   ]
  },
  {
   "cell_type": "markdown",
   "id": "bb2e39d0",
   "metadata": {},
   "source": [
    "# decorate"
   ]
  },
  {
   "cell_type": "code",
   "execution_count": 67,
   "id": "70503231",
   "metadata": {},
   "outputs": [
    {
     "data": {
      "text/plain": [
       "25"
      ]
     },
     "execution_count": 67,
     "metadata": {},
     "output_type": "execute_result"
    }
   ],
   "source": [
    "# 일급 함수\n",
    "def square(x):\n",
    "    return x*x\n",
    "f = square\n",
    "f(5)"
   ]
  },
  {
   "cell_type": "code",
   "execution_count": 68,
   "id": "70e192b7",
   "metadata": {},
   "outputs": [],
   "source": [
    "def square(x):\n",
    "    return x*x\n",
    "def cube(x):\n",
    "    return x*x*x\n",
    "def formula(method, argument_list):\n",
    "    return [method(value) for value in argument_list]\n"
   ]
  },
  {
   "cell_type": "code",
   "execution_count": 79,
   "id": "9715504f",
   "metadata": {},
   "outputs": [
    {
     "data": {
      "text/plain": [
       "[1, 4, 9]"
      ]
     },
     "execution_count": 79,
     "metadata": {},
     "output_type": "execute_result"
    }
   ],
   "source": [
    "formula(square,[1,2,3])"
   ]
  },
  {
   "cell_type": "code",
   "execution_count": 81,
   "id": "9be0908b",
   "metadata": {},
   "outputs": [
    {
     "name": "stdout",
     "output_type": "stream",
     "text": [
      "Hello, Python\n"
     ]
    }
   ],
   "source": [
    "# Inner function\n",
    "def print_msg(msg):\n",
    "    def printer():\n",
    "        print(msg)\n",
    "    printer()\n",
    "print_msg(\"Hello, Python\")"
   ]
  },
  {
   "cell_type": "code",
   "execution_count": 82,
   "id": "bf0827b8",
   "metadata": {},
   "outputs": [
    {
     "name": "stdout",
     "output_type": "stream",
     "text": [
      "Hello, Python\n"
     ]
    }
   ],
   "source": [
    "def print_msg(msg):\n",
    "    def printer():\n",
    "        print(msg)\n",
    "    return printer\n",
    "another = print_msg(\"Hello, Python\")\n",
    "another()"
   ]
  },
  {
   "cell_type": "code",
   "execution_count": 84,
   "id": "46de6be3",
   "metadata": {},
   "outputs": [],
   "source": [
    "#closure\n",
    "def tag_func(tag, text):\n",
    "    text = text\n",
    "    tag = tag\n",
    "    \n",
    "    def inner_func():\n",
    "        return '<{0}>{1}<{0}>'.format(tag, text)\n",
    "    \n",
    "    return inner_func\n",
    "\n",
    "h1_func = tag_func('title',\"This is Python Class\")\n",
    "p_func = tag_func('p',\"Data Academy\")"
   ]
  },
  {
   "cell_type": "code",
   "execution_count": 88,
   "id": "fe3f8a04",
   "metadata": {},
   "outputs": [
    {
     "name": "stdout",
     "output_type": "stream",
     "text": [
      "******************************\n",
      "Hello\n",
      "******************************\n"
     ]
    }
   ],
   "source": [
    "def star(func):\n",
    "    def inner(*args, **kwargs):\n",
    "        print(\"*\" * 30)\n",
    "        func(*args, **kwargs)\n",
    "        print(\"*\" * 30)\n",
    "    return inner\n",
    "@star\n",
    "def printer(msg):\n",
    "    print(msg)\n",
    "printer(\"Hello\")"
   ]
  },
  {
   "cell_type": "code",
   "execution_count": 95,
   "id": "a10c8be8",
   "metadata": {},
   "outputs": [
    {
     "name": "stdout",
     "output_type": "stream",
     "text": [
      "||||||||||||||||||||||||||||||\n",
      "Hello\n",
      "||||||||||||||||||||||||||||||\n"
     ]
    }
   ],
   "source": [
    "def star(func):\n",
    "    def inner(*args, **kwargs):\n",
    "        print(args[1] * 30)\n",
    "        func(*args, **kwargs)\n",
    "        print(args[1] * 30)\n",
    "    return inner\n",
    "@star\n",
    "def printer(msg,mark):\n",
    "    print(msg)\n",
    "printer(\"Hello\",\"|\")"
   ]
  },
  {
   "cell_type": "code",
   "execution_count": null,
   "id": "dce38311",
   "metadata": {},
   "outputs": [],
   "source": []
  }
 ],
 "metadata": {
  "kernelspec": {
   "display_name": "Python 3 (ipykernel)",
   "language": "python",
   "name": "python3"
  },
  "language_info": {
   "codemirror_mode": {
    "name": "ipython",
    "version": 3
   },
   "file_extension": ".py",
   "mimetype": "text/x-python",
   "name": "python",
   "nbconvert_exporter": "python",
   "pygments_lexer": "ipython3",
   "version": "3.9.12"
  }
 },
 "nbformat": 4,
 "nbformat_minor": 5
}
